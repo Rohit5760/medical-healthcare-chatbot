{
  "cells": [
    {
      "cell_type": "code",
      "execution_count": 16,
      "metadata": {
        "id": "7dfE_MY4Luck"
      },
      "outputs": [],
      "source": [
        "import pandas as pd"
      ]
    },
    {
      "cell_type": "code",
      "execution_count": 17,
      "metadata": {
        "id": "HnyOIpYaEaXY"
      },
      "outputs": [],
      "source": [
        "df=pd.read_csv(\"/content/Disease-Info SIH Dataset.csv\")"
      ]
    },
    {
      "cell_type": "code",
      "execution_count": 18,
      "metadata": {
        "colab": {
          "base_uri": "https://localhost:8080/",
          "height": 299
        },
        "id": "W16tPOv0N1ym",
        "outputId": "06f0c935-3e33-4d7b-a477-8ee755d8d3d6"
      },
      "outputs": [
        {
          "output_type": "execute_result",
          "data": {
            "text/plain": [
              "            Disease                                              Cause  \\\n",
              "0    Panic disorder  Genetic predisposition, neurobiologic differen...   \n",
              "1  Vocal cord polyp  Vocal fold trauma/overuse, smoking, reflux, ch...   \n",
              "2   Turner syndrome               Monosomy X (45,X) or mosaic variants   \n",
              "\n",
              "                                            Symptoms  \\\n",
              "0  Recurrent panic attacks: sudden intense fear, ...   \n",
              "1  Hoarseness, breathy voice, vocal fatigue, redu...   \n",
              "2  Short stature, webbed neck, lymphedema, ovaria...   \n",
              "\n",
              "                                         Precautions  \\\n",
              "0  Avoid stimulants; screen for medical causes; e...   \n",
              "1  Voice rest, avoid smoking/irritants, treat ref...   \n",
              "2  Cardiac monitoring, growth/puberty follow-up, ...   \n",
              "\n",
              "                                           Treatment  \\\n",
              "0  CBT, SSRIs/SNRIs, short-term benzodiazepines, ...   \n",
              "1  Voice therapy, treat reflux, surgical excision...   \n",
              "2  Growth hormone, estrogen replacement, manage a...   \n",
              "\n",
              "                                            Severity  \\\n",
              "0  Variable: mild to severe, disabling without tr...   \n",
              "1         Mild–moderate but can impair voice quality   \n",
              "2    Variable: mild to severe depending on anomalies   \n",
              "\n",
              "                                          References  \n",
              "0  https://www.nimh.nih.gov/health/statistics/pan...  \n",
              "1  https://www.mayoclinic.org/diseases-conditions...  \n",
              "2  https://www.nhs.uk/conditions/turner-syndrome;...  "
            ],
            "text/html": [
              "\n",
              "  <div id=\"df-d710a104-d978-4aa6-9532-5d973ab73631\" class=\"colab-df-container\">\n",
              "    <div>\n",
              "<style scoped>\n",
              "    .dataframe tbody tr th:only-of-type {\n",
              "        vertical-align: middle;\n",
              "    }\n",
              "\n",
              "    .dataframe tbody tr th {\n",
              "        vertical-align: top;\n",
              "    }\n",
              "\n",
              "    .dataframe thead th {\n",
              "        text-align: right;\n",
              "    }\n",
              "</style>\n",
              "<table border=\"1\" class=\"dataframe\">\n",
              "  <thead>\n",
              "    <tr style=\"text-align: right;\">\n",
              "      <th></th>\n",
              "      <th>Disease</th>\n",
              "      <th>Cause</th>\n",
              "      <th>Symptoms</th>\n",
              "      <th>Precautions</th>\n",
              "      <th>Treatment</th>\n",
              "      <th>Severity</th>\n",
              "      <th>References</th>\n",
              "    </tr>\n",
              "  </thead>\n",
              "  <tbody>\n",
              "    <tr>\n",
              "      <th>0</th>\n",
              "      <td>Panic disorder</td>\n",
              "      <td>Genetic predisposition, neurobiologic differen...</td>\n",
              "      <td>Recurrent panic attacks: sudden intense fear, ...</td>\n",
              "      <td>Avoid stimulants; screen for medical causes; e...</td>\n",
              "      <td>CBT, SSRIs/SNRIs, short-term benzodiazepines, ...</td>\n",
              "      <td>Variable: mild to severe, disabling without tr...</td>\n",
              "      <td>https://www.nimh.nih.gov/health/statistics/pan...</td>\n",
              "    </tr>\n",
              "    <tr>\n",
              "      <th>1</th>\n",
              "      <td>Vocal cord polyp</td>\n",
              "      <td>Vocal fold trauma/overuse, smoking, reflux, ch...</td>\n",
              "      <td>Hoarseness, breathy voice, vocal fatigue, redu...</td>\n",
              "      <td>Voice rest, avoid smoking/irritants, treat ref...</td>\n",
              "      <td>Voice therapy, treat reflux, surgical excision...</td>\n",
              "      <td>Mild–moderate but can impair voice quality</td>\n",
              "      <td>https://www.mayoclinic.org/diseases-conditions...</td>\n",
              "    </tr>\n",
              "    <tr>\n",
              "      <th>2</th>\n",
              "      <td>Turner syndrome</td>\n",
              "      <td>Monosomy X (45,X) or mosaic variants</td>\n",
              "      <td>Short stature, webbed neck, lymphedema, ovaria...</td>\n",
              "      <td>Cardiac monitoring, growth/puberty follow-up, ...</td>\n",
              "      <td>Growth hormone, estrogen replacement, manage a...</td>\n",
              "      <td>Variable: mild to severe depending on anomalies</td>\n",
              "      <td>https://www.nhs.uk/conditions/turner-syndrome;...</td>\n",
              "    </tr>\n",
              "  </tbody>\n",
              "</table>\n",
              "</div>\n",
              "    <div class=\"colab-df-buttons\">\n",
              "\n",
              "  <div class=\"colab-df-container\">\n",
              "    <button class=\"colab-df-convert\" onclick=\"convertToInteractive('df-d710a104-d978-4aa6-9532-5d973ab73631')\"\n",
              "            title=\"Convert this dataframe to an interactive table.\"\n",
              "            style=\"display:none;\">\n",
              "\n",
              "  <svg xmlns=\"http://www.w3.org/2000/svg\" height=\"24px\" viewBox=\"0 -960 960 960\">\n",
              "    <path d=\"M120-120v-720h720v720H120Zm60-500h600v-160H180v160Zm220 220h160v-160H400v160Zm0 220h160v-160H400v160ZM180-400h160v-160H180v160Zm440 0h160v-160H620v160ZM180-180h160v-160H180v160Zm440 0h160v-160H620v160Z\"/>\n",
              "  </svg>\n",
              "    </button>\n",
              "\n",
              "  <style>\n",
              "    .colab-df-container {\n",
              "      display:flex;\n",
              "      gap: 12px;\n",
              "    }\n",
              "\n",
              "    .colab-df-convert {\n",
              "      background-color: #E8F0FE;\n",
              "      border: none;\n",
              "      border-radius: 50%;\n",
              "      cursor: pointer;\n",
              "      display: none;\n",
              "      fill: #1967D2;\n",
              "      height: 32px;\n",
              "      padding: 0 0 0 0;\n",
              "      width: 32px;\n",
              "    }\n",
              "\n",
              "    .colab-df-convert:hover {\n",
              "      background-color: #E2EBFA;\n",
              "      box-shadow: 0px 1px 2px rgba(60, 64, 67, 0.3), 0px 1px 3px 1px rgba(60, 64, 67, 0.15);\n",
              "      fill: #174EA6;\n",
              "    }\n",
              "\n",
              "    .colab-df-buttons div {\n",
              "      margin-bottom: 4px;\n",
              "    }\n",
              "\n",
              "    [theme=dark] .colab-df-convert {\n",
              "      background-color: #3B4455;\n",
              "      fill: #D2E3FC;\n",
              "    }\n",
              "\n",
              "    [theme=dark] .colab-df-convert:hover {\n",
              "      background-color: #434B5C;\n",
              "      box-shadow: 0px 1px 3px 1px rgba(0, 0, 0, 0.15);\n",
              "      filter: drop-shadow(0px 1px 2px rgba(0, 0, 0, 0.3));\n",
              "      fill: #FFFFFF;\n",
              "    }\n",
              "  </style>\n",
              "\n",
              "    <script>\n",
              "      const buttonEl =\n",
              "        document.querySelector('#df-d710a104-d978-4aa6-9532-5d973ab73631 button.colab-df-convert');\n",
              "      buttonEl.style.display =\n",
              "        google.colab.kernel.accessAllowed ? 'block' : 'none';\n",
              "\n",
              "      async function convertToInteractive(key) {\n",
              "        const element = document.querySelector('#df-d710a104-d978-4aa6-9532-5d973ab73631');\n",
              "        const dataTable =\n",
              "          await google.colab.kernel.invokeFunction('convertToInteractive',\n",
              "                                                    [key], {});\n",
              "        if (!dataTable) return;\n",
              "\n",
              "        const docLinkHtml = 'Like what you see? Visit the ' +\n",
              "          '<a target=\"_blank\" href=https://colab.research.google.com/notebooks/data_table.ipynb>data table notebook</a>'\n",
              "          + ' to learn more about interactive tables.';\n",
              "        element.innerHTML = '';\n",
              "        dataTable['output_type'] = 'display_data';\n",
              "        await google.colab.output.renderOutput(dataTable, element);\n",
              "        const docLink = document.createElement('div');\n",
              "        docLink.innerHTML = docLinkHtml;\n",
              "        element.appendChild(docLink);\n",
              "      }\n",
              "    </script>\n",
              "  </div>\n",
              "\n",
              "\n",
              "    <div id=\"df-74c79fb8-e0e8-45a4-b2b4-d5f366e690cf\">\n",
              "      <button class=\"colab-df-quickchart\" onclick=\"quickchart('df-74c79fb8-e0e8-45a4-b2b4-d5f366e690cf')\"\n",
              "                title=\"Suggest charts\"\n",
              "                style=\"display:none;\">\n",
              "\n",
              "<svg xmlns=\"http://www.w3.org/2000/svg\" height=\"24px\"viewBox=\"0 0 24 24\"\n",
              "     width=\"24px\">\n",
              "    <g>\n",
              "        <path d=\"M19 3H5c-1.1 0-2 .9-2 2v14c0 1.1.9 2 2 2h14c1.1 0 2-.9 2-2V5c0-1.1-.9-2-2-2zM9 17H7v-7h2v7zm4 0h-2V7h2v10zm4 0h-2v-4h2v4z\"/>\n",
              "    </g>\n",
              "</svg>\n",
              "      </button>\n",
              "\n",
              "<style>\n",
              "  .colab-df-quickchart {\n",
              "      --bg-color: #E8F0FE;\n",
              "      --fill-color: #1967D2;\n",
              "      --hover-bg-color: #E2EBFA;\n",
              "      --hover-fill-color: #174EA6;\n",
              "      --disabled-fill-color: #AAA;\n",
              "      --disabled-bg-color: #DDD;\n",
              "  }\n",
              "\n",
              "  [theme=dark] .colab-df-quickchart {\n",
              "      --bg-color: #3B4455;\n",
              "      --fill-color: #D2E3FC;\n",
              "      --hover-bg-color: #434B5C;\n",
              "      --hover-fill-color: #FFFFFF;\n",
              "      --disabled-bg-color: #3B4455;\n",
              "      --disabled-fill-color: #666;\n",
              "  }\n",
              "\n",
              "  .colab-df-quickchart {\n",
              "    background-color: var(--bg-color);\n",
              "    border: none;\n",
              "    border-radius: 50%;\n",
              "    cursor: pointer;\n",
              "    display: none;\n",
              "    fill: var(--fill-color);\n",
              "    height: 32px;\n",
              "    padding: 0;\n",
              "    width: 32px;\n",
              "  }\n",
              "\n",
              "  .colab-df-quickchart:hover {\n",
              "    background-color: var(--hover-bg-color);\n",
              "    box-shadow: 0 1px 2px rgba(60, 64, 67, 0.3), 0 1px 3px 1px rgba(60, 64, 67, 0.15);\n",
              "    fill: var(--button-hover-fill-color);\n",
              "  }\n",
              "\n",
              "  .colab-df-quickchart-complete:disabled,\n",
              "  .colab-df-quickchart-complete:disabled:hover {\n",
              "    background-color: var(--disabled-bg-color);\n",
              "    fill: var(--disabled-fill-color);\n",
              "    box-shadow: none;\n",
              "  }\n",
              "\n",
              "  .colab-df-spinner {\n",
              "    border: 2px solid var(--fill-color);\n",
              "    border-color: transparent;\n",
              "    border-bottom-color: var(--fill-color);\n",
              "    animation:\n",
              "      spin 1s steps(1) infinite;\n",
              "  }\n",
              "\n",
              "  @keyframes spin {\n",
              "    0% {\n",
              "      border-color: transparent;\n",
              "      border-bottom-color: var(--fill-color);\n",
              "      border-left-color: var(--fill-color);\n",
              "    }\n",
              "    20% {\n",
              "      border-color: transparent;\n",
              "      border-left-color: var(--fill-color);\n",
              "      border-top-color: var(--fill-color);\n",
              "    }\n",
              "    30% {\n",
              "      border-color: transparent;\n",
              "      border-left-color: var(--fill-color);\n",
              "      border-top-color: var(--fill-color);\n",
              "      border-right-color: var(--fill-color);\n",
              "    }\n",
              "    40% {\n",
              "      border-color: transparent;\n",
              "      border-right-color: var(--fill-color);\n",
              "      border-top-color: var(--fill-color);\n",
              "    }\n",
              "    60% {\n",
              "      border-color: transparent;\n",
              "      border-right-color: var(--fill-color);\n",
              "    }\n",
              "    80% {\n",
              "      border-color: transparent;\n",
              "      border-right-color: var(--fill-color);\n",
              "      border-bottom-color: var(--fill-color);\n",
              "    }\n",
              "    90% {\n",
              "      border-color: transparent;\n",
              "      border-bottom-color: var(--fill-color);\n",
              "    }\n",
              "  }\n",
              "</style>\n",
              "\n",
              "      <script>\n",
              "        async function quickchart(key) {\n",
              "          const quickchartButtonEl =\n",
              "            document.querySelector('#' + key + ' button');\n",
              "          quickchartButtonEl.disabled = true;  // To prevent multiple clicks.\n",
              "          quickchartButtonEl.classList.add('colab-df-spinner');\n",
              "          try {\n",
              "            const charts = await google.colab.kernel.invokeFunction(\n",
              "                'suggestCharts', [key], {});\n",
              "          } catch (error) {\n",
              "            console.error('Error during call to suggestCharts:', error);\n",
              "          }\n",
              "          quickchartButtonEl.classList.remove('colab-df-spinner');\n",
              "          quickchartButtonEl.classList.add('colab-df-quickchart-complete');\n",
              "        }\n",
              "        (() => {\n",
              "          let quickchartButtonEl =\n",
              "            document.querySelector('#df-74c79fb8-e0e8-45a4-b2b4-d5f366e690cf button');\n",
              "          quickchartButtonEl.style.display =\n",
              "            google.colab.kernel.accessAllowed ? 'block' : 'none';\n",
              "        })();\n",
              "      </script>\n",
              "    </div>\n",
              "\n",
              "    </div>\n",
              "  </div>\n"
            ],
            "application/vnd.google.colaboratory.intrinsic+json": {
              "type": "dataframe",
              "variable_name": "df",
              "summary": "{\n  \"name\": \"df\",\n  \"rows\": 674,\n  \"fields\": [\n    {\n      \"column\": \"Disease\",\n      \"properties\": {\n        \"dtype\": \"string\",\n        \"num_unique_values\": 674,\n        \"samples\": [\n          \"Bone disorder (examples: osteoporosis\",\n          \"Venous insufficiency\",\n          \"Gastritis\"\n        ],\n        \"semantic_type\": \"\",\n        \"description\": \"\"\n      }\n    },\n    {\n      \"column\": \"Cause\",\n      \"properties\": {\n        \"dtype\": \"string\",\n        \"num_unique_values\": 674,\n        \"samples\": [\n          \" Paget disease\",\n          \"Weak or damaged vein valves, prolonged standing, obesity, DVT history\",\n          \"Inflammation of the stomach lining caused by H. pylori infection, NSAIDs, alcohol, stress, autoimmune causes\"\n        ],\n        \"semantic_type\": \"\",\n        \"description\": \"\"\n      }\n    },\n    {\n      \"column\": \"Symptoms\",\n      \"properties\": {\n        \"dtype\": \"string\",\n        \"num_unique_values\": 673,\n        \"samples\": [\n          \"Red scaly plaques, itching, nail changes, joint pain (psoriatic arthritis)\",\n          \"Pain, swelling, bruising, inability to bear weight, deformity\",\n          \"Persistent sadness, loss of interest, fatigue, sleep/appetite changes, suicidal thoughts\"\n        ],\n        \"semantic_type\": \"\",\n        \"description\": \"\"\n      }\n    },\n    {\n      \"column\": \"Precautions\",\n      \"properties\": {\n        \"dtype\": \"string\",\n        \"num_unique_values\": 670,\n        \"samples\": [\n          \"Keep warm, avoid smoking, manage stress, avoid cold exposure\",\n          \"Avoid strenuous exercise during flare-ups; early diagnosis\",\n          \"Family screening if index case; avoid excessive dietary copper; monitor LFTs and copper studies in suspicious cases\"\n        ],\n        \"semantic_type\": \"\",\n        \"description\": \"\"\n      }\n    },\n    {\n      \"column\": \"Treatment\",\n      \"properties\": {\n        \"dtype\": \"string\",\n        \"num_unique_values\": 671,\n        \"samples\": [\n          \"Calcium channel blockers, vasodilators, lifestyle adjustments\",\n          \"Corticosteroids, immunosuppressants, physical therapy\",\n          \"Oral vitamin A supplementation (therapeutic doses for deficiency), dietary correction; parenteral in malabsorption or severe cases; treat concurrent infections/nutrition\"\n        ],\n        \"semantic_type\": \"\",\n        \"description\": \"\"\n      }\n    },\n    {\n      \"column\": \"Severity\",\n      \"properties\": {\n        \"dtype\": \"string\",\n        \"num_unique_values\": 605,\n        \"samples\": [\n          \"Mild to moderate; treatable with therapy\",\n          \"Moderate; rarely life-threatening\",\n          \"Mild to moderate; though cosmetic mostly; psychological impact high; severe forms (alopecia totalis/universalis) more difficult to treat\"\n        ],\n        \"semantic_type\": \"\",\n        \"description\": \"\"\n      }\n    },\n    {\n      \"column\": \"References\",\n      \"properties\": {\n        \"dtype\": \"string\",\n        \"num_unique_values\": 645,\n        \"samples\": [\n          \"https://www.mayoclinic.org/diseases-conditions/lichen-planus/symptoms-causes/syc-20352314; https://www.ncbi.nlm.nih.gov/books/NBK538451/; https://www.who.int/health-topics/dermatological-disorders/\",\n          \"https://www.mayoclinic.org/diseases-conditions/tonsillectomy/symptoms-causes/syc-20378402; https://www.nhs.uk/conditions/tonsillectomy/; https://www.ncbi.nlm.nih.gov/books/NBK526056/\",\n          \"https://www.cdc.gov/rmsf/index.html; https://www.mayoclinic.org/diseases-conditions/rocky-mountain-spotted-fever/symptoms-causes/syc-20361084; https://www.ncbi.nlm.nih.gov/books/NBK519056/\"\n        ],\n        \"semantic_type\": \"\",\n        \"description\": \"\"\n      }\n    }\n  ]\n}"
            }
          },
          "metadata": {},
          "execution_count": 18
        }
      ],
      "source": [
        "df.head(3)"
      ]
    },
    {
      "cell_type": "code",
      "execution_count": 19,
      "metadata": {
        "colab": {
          "base_uri": "https://localhost:8080/",
          "height": 216
        },
        "id": "-VEUxXfQhawe",
        "outputId": "70f6f05c-550c-4f8d-b74e-e4feba4d9b43"
      },
      "outputs": [
        {
          "output_type": "execute_result",
          "data": {
            "text/plain": [
              "            Disease                                              Cause  \\\n",
              "0    panic disorder  Genetic predisposition, neurobiologic differen...   \n",
              "1  vocal cord polyp  Vocal fold trauma/overuse, smoking, reflux, ch...   \n",
              "\n",
              "                                            Symptoms  \\\n",
              "0  Recurrent panic attacks: sudden intense fear, ...   \n",
              "1  Hoarseness, breathy voice, vocal fatigue, redu...   \n",
              "\n",
              "                                         Precautions  \\\n",
              "0  Avoid stimulants; screen for medical causes; e...   \n",
              "1  Voice rest, avoid smoking/irritants, treat ref...   \n",
              "\n",
              "                                           Treatment  \\\n",
              "0  CBT, SSRIs/SNRIs, short-term benzodiazepines, ...   \n",
              "1  Voice therapy, treat reflux, surgical excision...   \n",
              "\n",
              "                                            Severity  \\\n",
              "0  Variable: mild to severe, disabling without tr...   \n",
              "1         Mild–moderate but can impair voice quality   \n",
              "\n",
              "                                          References  \n",
              "0  https://www.nimh.nih.gov/health/statistics/pan...  \n",
              "1  https://www.mayoclinic.org/diseases-conditions...  "
            ],
            "text/html": [
              "\n",
              "  <div id=\"df-198adb2f-1d60-4e9c-b8c5-465594942643\" class=\"colab-df-container\">\n",
              "    <div>\n",
              "<style scoped>\n",
              "    .dataframe tbody tr th:only-of-type {\n",
              "        vertical-align: middle;\n",
              "    }\n",
              "\n",
              "    .dataframe tbody tr th {\n",
              "        vertical-align: top;\n",
              "    }\n",
              "\n",
              "    .dataframe thead th {\n",
              "        text-align: right;\n",
              "    }\n",
              "</style>\n",
              "<table border=\"1\" class=\"dataframe\">\n",
              "  <thead>\n",
              "    <tr style=\"text-align: right;\">\n",
              "      <th></th>\n",
              "      <th>Disease</th>\n",
              "      <th>Cause</th>\n",
              "      <th>Symptoms</th>\n",
              "      <th>Precautions</th>\n",
              "      <th>Treatment</th>\n",
              "      <th>Severity</th>\n",
              "      <th>References</th>\n",
              "    </tr>\n",
              "  </thead>\n",
              "  <tbody>\n",
              "    <tr>\n",
              "      <th>0</th>\n",
              "      <td>panic disorder</td>\n",
              "      <td>Genetic predisposition, neurobiologic differen...</td>\n",
              "      <td>Recurrent panic attacks: sudden intense fear, ...</td>\n",
              "      <td>Avoid stimulants; screen for medical causes; e...</td>\n",
              "      <td>CBT, SSRIs/SNRIs, short-term benzodiazepines, ...</td>\n",
              "      <td>Variable: mild to severe, disabling without tr...</td>\n",
              "      <td>https://www.nimh.nih.gov/health/statistics/pan...</td>\n",
              "    </tr>\n",
              "    <tr>\n",
              "      <th>1</th>\n",
              "      <td>vocal cord polyp</td>\n",
              "      <td>Vocal fold trauma/overuse, smoking, reflux, ch...</td>\n",
              "      <td>Hoarseness, breathy voice, vocal fatigue, redu...</td>\n",
              "      <td>Voice rest, avoid smoking/irritants, treat ref...</td>\n",
              "      <td>Voice therapy, treat reflux, surgical excision...</td>\n",
              "      <td>Mild–moderate but can impair voice quality</td>\n",
              "      <td>https://www.mayoclinic.org/diseases-conditions...</td>\n",
              "    </tr>\n",
              "  </tbody>\n",
              "</table>\n",
              "</div>\n",
              "    <div class=\"colab-df-buttons\">\n",
              "\n",
              "  <div class=\"colab-df-container\">\n",
              "    <button class=\"colab-df-convert\" onclick=\"convertToInteractive('df-198adb2f-1d60-4e9c-b8c5-465594942643')\"\n",
              "            title=\"Convert this dataframe to an interactive table.\"\n",
              "            style=\"display:none;\">\n",
              "\n",
              "  <svg xmlns=\"http://www.w3.org/2000/svg\" height=\"24px\" viewBox=\"0 -960 960 960\">\n",
              "    <path d=\"M120-120v-720h720v720H120Zm60-500h600v-160H180v160Zm220 220h160v-160H400v160Zm0 220h160v-160H400v160ZM180-400h160v-160H180v160Zm440 0h160v-160H620v160ZM180-180h160v-160H180v160Zm440 0h160v-160H620v160Z\"/>\n",
              "  </svg>\n",
              "    </button>\n",
              "\n",
              "  <style>\n",
              "    .colab-df-container {\n",
              "      display:flex;\n",
              "      gap: 12px;\n",
              "    }\n",
              "\n",
              "    .colab-df-convert {\n",
              "      background-color: #E8F0FE;\n",
              "      border: none;\n",
              "      border-radius: 50%;\n",
              "      cursor: pointer;\n",
              "      display: none;\n",
              "      fill: #1967D2;\n",
              "      height: 32px;\n",
              "      padding: 0 0 0 0;\n",
              "      width: 32px;\n",
              "    }\n",
              "\n",
              "    .colab-df-convert:hover {\n",
              "      background-color: #E2EBFA;\n",
              "      box-shadow: 0px 1px 2px rgba(60, 64, 67, 0.3), 0px 1px 3px 1px rgba(60, 64, 67, 0.15);\n",
              "      fill: #174EA6;\n",
              "    }\n",
              "\n",
              "    .colab-df-buttons div {\n",
              "      margin-bottom: 4px;\n",
              "    }\n",
              "\n",
              "    [theme=dark] .colab-df-convert {\n",
              "      background-color: #3B4455;\n",
              "      fill: #D2E3FC;\n",
              "    }\n",
              "\n",
              "    [theme=dark] .colab-df-convert:hover {\n",
              "      background-color: #434B5C;\n",
              "      box-shadow: 0px 1px 3px 1px rgba(0, 0, 0, 0.15);\n",
              "      filter: drop-shadow(0px 1px 2px rgba(0, 0, 0, 0.3));\n",
              "      fill: #FFFFFF;\n",
              "    }\n",
              "  </style>\n",
              "\n",
              "    <script>\n",
              "      const buttonEl =\n",
              "        document.querySelector('#df-198adb2f-1d60-4e9c-b8c5-465594942643 button.colab-df-convert');\n",
              "      buttonEl.style.display =\n",
              "        google.colab.kernel.accessAllowed ? 'block' : 'none';\n",
              "\n",
              "      async function convertToInteractive(key) {\n",
              "        const element = document.querySelector('#df-198adb2f-1d60-4e9c-b8c5-465594942643');\n",
              "        const dataTable =\n",
              "          await google.colab.kernel.invokeFunction('convertToInteractive',\n",
              "                                                    [key], {});\n",
              "        if (!dataTable) return;\n",
              "\n",
              "        const docLinkHtml = 'Like what you see? Visit the ' +\n",
              "          '<a target=\"_blank\" href=https://colab.research.google.com/notebooks/data_table.ipynb>data table notebook</a>'\n",
              "          + ' to learn more about interactive tables.';\n",
              "        element.innerHTML = '';\n",
              "        dataTable['output_type'] = 'display_data';\n",
              "        await google.colab.output.renderOutput(dataTable, element);\n",
              "        const docLink = document.createElement('div');\n",
              "        docLink.innerHTML = docLinkHtml;\n",
              "        element.appendChild(docLink);\n",
              "      }\n",
              "    </script>\n",
              "  </div>\n",
              "\n",
              "\n",
              "    <div id=\"df-ec53e90f-36ec-4924-8e9a-b832e13cd809\">\n",
              "      <button class=\"colab-df-quickchart\" onclick=\"quickchart('df-ec53e90f-36ec-4924-8e9a-b832e13cd809')\"\n",
              "                title=\"Suggest charts\"\n",
              "                style=\"display:none;\">\n",
              "\n",
              "<svg xmlns=\"http://www.w3.org/2000/svg\" height=\"24px\"viewBox=\"0 0 24 24\"\n",
              "     width=\"24px\">\n",
              "    <g>\n",
              "        <path d=\"M19 3H5c-1.1 0-2 .9-2 2v14c0 1.1.9 2 2 2h14c1.1 0 2-.9 2-2V5c0-1.1-.9-2-2-2zM9 17H7v-7h2v7zm4 0h-2V7h2v10zm4 0h-2v-4h2v4z\"/>\n",
              "    </g>\n",
              "</svg>\n",
              "      </button>\n",
              "\n",
              "<style>\n",
              "  .colab-df-quickchart {\n",
              "      --bg-color: #E8F0FE;\n",
              "      --fill-color: #1967D2;\n",
              "      --hover-bg-color: #E2EBFA;\n",
              "      --hover-fill-color: #174EA6;\n",
              "      --disabled-fill-color: #AAA;\n",
              "      --disabled-bg-color: #DDD;\n",
              "  }\n",
              "\n",
              "  [theme=dark] .colab-df-quickchart {\n",
              "      --bg-color: #3B4455;\n",
              "      --fill-color: #D2E3FC;\n",
              "      --hover-bg-color: #434B5C;\n",
              "      --hover-fill-color: #FFFFFF;\n",
              "      --disabled-bg-color: #3B4455;\n",
              "      --disabled-fill-color: #666;\n",
              "  }\n",
              "\n",
              "  .colab-df-quickchart {\n",
              "    background-color: var(--bg-color);\n",
              "    border: none;\n",
              "    border-radius: 50%;\n",
              "    cursor: pointer;\n",
              "    display: none;\n",
              "    fill: var(--fill-color);\n",
              "    height: 32px;\n",
              "    padding: 0;\n",
              "    width: 32px;\n",
              "  }\n",
              "\n",
              "  .colab-df-quickchart:hover {\n",
              "    background-color: var(--hover-bg-color);\n",
              "    box-shadow: 0 1px 2px rgba(60, 64, 67, 0.3), 0 1px 3px 1px rgba(60, 64, 67, 0.15);\n",
              "    fill: var(--button-hover-fill-color);\n",
              "  }\n",
              "\n",
              "  .colab-df-quickchart-complete:disabled,\n",
              "  .colab-df-quickchart-complete:disabled:hover {\n",
              "    background-color: var(--disabled-bg-color);\n",
              "    fill: var(--disabled-fill-color);\n",
              "    box-shadow: none;\n",
              "  }\n",
              "\n",
              "  .colab-df-spinner {\n",
              "    border: 2px solid var(--fill-color);\n",
              "    border-color: transparent;\n",
              "    border-bottom-color: var(--fill-color);\n",
              "    animation:\n",
              "      spin 1s steps(1) infinite;\n",
              "  }\n",
              "\n",
              "  @keyframes spin {\n",
              "    0% {\n",
              "      border-color: transparent;\n",
              "      border-bottom-color: var(--fill-color);\n",
              "      border-left-color: var(--fill-color);\n",
              "    }\n",
              "    20% {\n",
              "      border-color: transparent;\n",
              "      border-left-color: var(--fill-color);\n",
              "      border-top-color: var(--fill-color);\n",
              "    }\n",
              "    30% {\n",
              "      border-color: transparent;\n",
              "      border-left-color: var(--fill-color);\n",
              "      border-top-color: var(--fill-color);\n",
              "      border-right-color: var(--fill-color);\n",
              "    }\n",
              "    40% {\n",
              "      border-color: transparent;\n",
              "      border-right-color: var(--fill-color);\n",
              "      border-top-color: var(--fill-color);\n",
              "    }\n",
              "    60% {\n",
              "      border-color: transparent;\n",
              "      border-right-color: var(--fill-color);\n",
              "    }\n",
              "    80% {\n",
              "      border-color: transparent;\n",
              "      border-right-color: var(--fill-color);\n",
              "      border-bottom-color: var(--fill-color);\n",
              "    }\n",
              "    90% {\n",
              "      border-color: transparent;\n",
              "      border-bottom-color: var(--fill-color);\n",
              "    }\n",
              "  }\n",
              "</style>\n",
              "\n",
              "      <script>\n",
              "        async function quickchart(key) {\n",
              "          const quickchartButtonEl =\n",
              "            document.querySelector('#' + key + ' button');\n",
              "          quickchartButtonEl.disabled = true;  // To prevent multiple clicks.\n",
              "          quickchartButtonEl.classList.add('colab-df-spinner');\n",
              "          try {\n",
              "            const charts = await google.colab.kernel.invokeFunction(\n",
              "                'suggestCharts', [key], {});\n",
              "          } catch (error) {\n",
              "            console.error('Error during call to suggestCharts:', error);\n",
              "          }\n",
              "          quickchartButtonEl.classList.remove('colab-df-spinner');\n",
              "          quickchartButtonEl.classList.add('colab-df-quickchart-complete');\n",
              "        }\n",
              "        (() => {\n",
              "          let quickchartButtonEl =\n",
              "            document.querySelector('#df-ec53e90f-36ec-4924-8e9a-b832e13cd809 button');\n",
              "          quickchartButtonEl.style.display =\n",
              "            google.colab.kernel.accessAllowed ? 'block' : 'none';\n",
              "        })();\n",
              "      </script>\n",
              "    </div>\n",
              "\n",
              "    </div>\n",
              "  </div>\n"
            ],
            "application/vnd.google.colaboratory.intrinsic+json": {
              "type": "dataframe",
              "variable_name": "df",
              "summary": "{\n  \"name\": \"df\",\n  \"rows\": 674,\n  \"fields\": [\n    {\n      \"column\": \"Disease\",\n      \"properties\": {\n        \"dtype\": \"string\",\n        \"num_unique_values\": 674,\n        \"samples\": [\n          \"bone disorder (examples: osteoporosis\",\n          \"venous insufficiency\",\n          \"gastritis\"\n        ],\n        \"semantic_type\": \"\",\n        \"description\": \"\"\n      }\n    },\n    {\n      \"column\": \"Cause\",\n      \"properties\": {\n        \"dtype\": \"string\",\n        \"num_unique_values\": 674,\n        \"samples\": [\n          \" Paget disease\",\n          \"Weak or damaged vein valves, prolonged standing, obesity, DVT history\",\n          \"Inflammation of the stomach lining caused by H. pylori infection, NSAIDs, alcohol, stress, autoimmune causes\"\n        ],\n        \"semantic_type\": \"\",\n        \"description\": \"\"\n      }\n    },\n    {\n      \"column\": \"Symptoms\",\n      \"properties\": {\n        \"dtype\": \"string\",\n        \"num_unique_values\": 673,\n        \"samples\": [\n          \"Red scaly plaques, itching, nail changes, joint pain (psoriatic arthritis)\",\n          \"Pain, swelling, bruising, inability to bear weight, deformity\",\n          \"Persistent sadness, loss of interest, fatigue, sleep/appetite changes, suicidal thoughts\"\n        ],\n        \"semantic_type\": \"\",\n        \"description\": \"\"\n      }\n    },\n    {\n      \"column\": \"Precautions\",\n      \"properties\": {\n        \"dtype\": \"string\",\n        \"num_unique_values\": 670,\n        \"samples\": [\n          \"Keep warm, avoid smoking, manage stress, avoid cold exposure\",\n          \"Avoid strenuous exercise during flare-ups; early diagnosis\",\n          \"Family screening if index case; avoid excessive dietary copper; monitor LFTs and copper studies in suspicious cases\"\n        ],\n        \"semantic_type\": \"\",\n        \"description\": \"\"\n      }\n    },\n    {\n      \"column\": \"Treatment\",\n      \"properties\": {\n        \"dtype\": \"string\",\n        \"num_unique_values\": 671,\n        \"samples\": [\n          \"Calcium channel blockers, vasodilators, lifestyle adjustments\",\n          \"Corticosteroids, immunosuppressants, physical therapy\",\n          \"Oral vitamin A supplementation (therapeutic doses for deficiency), dietary correction; parenteral in malabsorption or severe cases; treat concurrent infections/nutrition\"\n        ],\n        \"semantic_type\": \"\",\n        \"description\": \"\"\n      }\n    },\n    {\n      \"column\": \"Severity\",\n      \"properties\": {\n        \"dtype\": \"string\",\n        \"num_unique_values\": 605,\n        \"samples\": [\n          \"Mild to moderate; treatable with therapy\",\n          \"Moderate; rarely life-threatening\",\n          \"Mild to moderate; though cosmetic mostly; psychological impact high; severe forms (alopecia totalis/universalis) more difficult to treat\"\n        ],\n        \"semantic_type\": \"\",\n        \"description\": \"\"\n      }\n    },\n    {\n      \"column\": \"References\",\n      \"properties\": {\n        \"dtype\": \"string\",\n        \"num_unique_values\": 645,\n        \"samples\": [\n          \"https://www.mayoclinic.org/diseases-conditions/lichen-planus/symptoms-causes/syc-20352314; https://www.ncbi.nlm.nih.gov/books/NBK538451/; https://www.who.int/health-topics/dermatological-disorders/\",\n          \"https://www.mayoclinic.org/diseases-conditions/tonsillectomy/symptoms-causes/syc-20378402; https://www.nhs.uk/conditions/tonsillectomy/; https://www.ncbi.nlm.nih.gov/books/NBK526056/\",\n          \"https://www.cdc.gov/rmsf/index.html; https://www.mayoclinic.org/diseases-conditions/rocky-mountain-spotted-fever/symptoms-causes/syc-20361084; https://www.ncbi.nlm.nih.gov/books/NBK519056/\"\n        ],\n        \"semantic_type\": \"\",\n        \"description\": \"\"\n      }\n    }\n  ]\n}"
            }
          },
          "metadata": {},
          "execution_count": 19
        }
      ],
      "source": [
        "df[\"Disease\"]=df[\"Disease\"].str.lower()\n",
        "df.head(2)"
      ]
    },
    {
      "cell_type": "markdown",
      "metadata": {
        "id": "nFodt5xUN1MX"
      },
      "source": [
        "# Database"
      ]
    },
    {
      "cell_type": "markdown",
      "metadata": {
        "id": "ibpffqCPXUl-"
      },
      "source": [
        "#### Generating Documents"
      ]
    },
    {
      "cell_type": "code",
      "execution_count": 20,
      "metadata": {
        "id": "TAofn_6TK7uR"
      },
      "outputs": [],
      "source": [
        "!pip install -q sentence-transformers faiss-cpu tqdm"
      ]
    },
    {
      "cell_type": "code",
      "execution_count": 21,
      "metadata": {
        "id": "RNfTPGGITiy6"
      },
      "outputs": [],
      "source": [
        "#Creating documents for Vector Database. Contents of document are embedded and metadata is used for sorting and searching.\n",
        "from langchain.docstore.document import Document"
      ]
    },
    {
      "cell_type": "code",
      "execution_count": 22,
      "metadata": {
        "id": "JJWeCNhjR8BW"
      },
      "outputs": [],
      "source": [
        "content_columns=[\"Cause\",\"Symptoms\",\"Precautions\",\"Treatment\"]\n",
        "docs=[]\n",
        "for idx, row in df.iterrows():\n",
        "  for col in content_columns:\n",
        "    content=str(row[col]).strip()\n",
        "    doc=Document(\n",
        "        page_content=content,\n",
        "        metadata={\n",
        "            \"Disease\": row.get(\"Disease\"),\n",
        "            \"field\": col,\n",
        "            \"Severity\": row.get(\"Severity\",\"\"),\n",
        "            \"References\": row.get(\"References\",\"\")\n",
        "          }\n",
        "        )\n",
        "    docs.append(doc)"
      ]
    },
    {
      "cell_type": "code",
      "execution_count": 23,
      "metadata": {
        "colab": {
          "base_uri": "https://localhost:8080/"
        },
        "id": "FG97Y7SbWHLJ",
        "outputId": "f3ebaed8-7b79-4d94-efbe-00c1ea05c6bf"
      },
      "outputs": [
        {
          "output_type": "execute_result",
          "data": {
            "text/plain": [
              "[Document(metadata={'Disease': 'panic disorder', 'field': 'Cause', 'Severity': 'Variable: mild to severe, disabling without treatment', 'References': 'https://www.nimh.nih.gov/health/statistics/panic-disorder; https://my.clevelandclinic.org/health/diseases/4451-panic-disorder'}, page_content='Genetic predisposition, neurobiologic differences, life stressors, comorbid psychiatric/medical conditions'),\n",
              " Document(metadata={'Disease': 'panic disorder', 'field': 'Symptoms', 'Severity': 'Variable: mild to severe, disabling without treatment', 'References': 'https://www.nimh.nih.gov/health/statistics/panic-disorder; https://my.clevelandclinic.org/health/diseases/4451-panic-disorder'}, page_content='Recurrent panic attacks: sudden intense fear, palpitations, chest pain, shortness of breath, dizziness, sweating, trembling, derealization')]"
            ]
          },
          "metadata": {},
          "execution_count": 23
        }
      ],
      "source": [
        "docs[0:2]"
      ]
    },
    {
      "cell_type": "code",
      "execution_count": 24,
      "metadata": {
        "colab": {
          "base_uri": "https://localhost:8080/"
        },
        "id": "kPqZwwDpWLnl",
        "outputId": "5504e144-8d99-4752-b198-b83bb53b1387"
      },
      "outputs": [
        {
          "output_type": "execute_result",
          "data": {
            "text/plain": [
              "2696"
            ]
          },
          "metadata": {},
          "execution_count": 24
        }
      ],
      "source": [
        "len(docs)"
      ]
    },
    {
      "cell_type": "markdown",
      "metadata": {
        "id": "dNywqGtMXMrS"
      },
      "source": [
        "#### Embeddings"
      ]
    },
    {
      "cell_type": "code",
      "execution_count": 25,
      "metadata": {
        "colab": {
          "base_uri": "https://localhost:8080/"
        },
        "id": "edG8u9kQWpSq",
        "outputId": "f40e24b5-6975-49af-c733-28afb63ef511"
      },
      "outputs": [
        {
          "output_type": "stream",
          "name": "stdout",
          "text": [
            "Requirement already satisfied: langchain-community in /usr/local/lib/python3.12/dist-packages (0.3.29)\n",
            "Requirement already satisfied: langchain in /usr/local/lib/python3.12/dist-packages (0.3.27)\n",
            "Requirement already satisfied: langchain-core<2.0.0,>=0.3.75 in /usr/local/lib/python3.12/dist-packages (from langchain-community) (0.3.75)\n",
            "Requirement already satisfied: SQLAlchemy<3,>=1.4 in /usr/local/lib/python3.12/dist-packages (from langchain-community) (2.0.43)\n",
            "Requirement already satisfied: requests<3,>=2.32.5 in /usr/local/lib/python3.12/dist-packages (from langchain-community) (2.32.5)\n",
            "Requirement already satisfied: PyYAML>=5.3 in /usr/local/lib/python3.12/dist-packages (from langchain-community) (6.0.2)\n",
            "Requirement already satisfied: aiohttp<4.0.0,>=3.8.3 in /usr/local/lib/python3.12/dist-packages (from langchain-community) (3.12.15)\n",
            "Requirement already satisfied: tenacity!=8.4.0,<10,>=8.1.0 in /usr/local/lib/python3.12/dist-packages (from langchain-community) (8.5.0)\n",
            "Requirement already satisfied: dataclasses-json<0.7,>=0.6.7 in /usr/local/lib/python3.12/dist-packages (from langchain-community) (0.6.7)\n",
            "Requirement already satisfied: pydantic-settings<3.0.0,>=2.10.1 in /usr/local/lib/python3.12/dist-packages (from langchain-community) (2.10.1)\n",
            "Requirement already satisfied: langsmith>=0.1.125 in /usr/local/lib/python3.12/dist-packages (from langchain-community) (0.4.27)\n",
            "Requirement already satisfied: httpx-sse<1.0.0,>=0.4.0 in /usr/local/lib/python3.12/dist-packages (from langchain-community) (0.4.1)\n",
            "Requirement already satisfied: numpy>=1.26.2 in /usr/local/lib/python3.12/dist-packages (from langchain-community) (1.26.4)\n",
            "Requirement already satisfied: langchain-text-splitters<1.0.0,>=0.3.9 in /usr/local/lib/python3.12/dist-packages (from langchain) (0.3.11)\n",
            "Requirement already satisfied: pydantic<3.0.0,>=2.7.4 in /usr/local/lib/python3.12/dist-packages (from langchain) (2.11.7)\n",
            "Requirement already satisfied: aiohappyeyeballs>=2.5.0 in /usr/local/lib/python3.12/dist-packages (from aiohttp<4.0.0,>=3.8.3->langchain-community) (2.6.1)\n",
            "Requirement already satisfied: aiosignal>=1.4.0 in /usr/local/lib/python3.12/dist-packages (from aiohttp<4.0.0,>=3.8.3->langchain-community) (1.4.0)\n",
            "Requirement already satisfied: attrs>=17.3.0 in /usr/local/lib/python3.12/dist-packages (from aiohttp<4.0.0,>=3.8.3->langchain-community) (25.3.0)\n",
            "Requirement already satisfied: frozenlist>=1.1.1 in /usr/local/lib/python3.12/dist-packages (from aiohttp<4.0.0,>=3.8.3->langchain-community) (1.7.0)\n",
            "Requirement already satisfied: multidict<7.0,>=4.5 in /usr/local/lib/python3.12/dist-packages (from aiohttp<4.0.0,>=3.8.3->langchain-community) (6.6.4)\n",
            "Requirement already satisfied: propcache>=0.2.0 in /usr/local/lib/python3.12/dist-packages (from aiohttp<4.0.0,>=3.8.3->langchain-community) (0.3.2)\n",
            "Requirement already satisfied: yarl<2.0,>=1.17.0 in /usr/local/lib/python3.12/dist-packages (from aiohttp<4.0.0,>=3.8.3->langchain-community) (1.20.1)\n",
            "Requirement already satisfied: marshmallow<4.0.0,>=3.18.0 in /usr/local/lib/python3.12/dist-packages (from dataclasses-json<0.7,>=0.6.7->langchain-community) (3.26.1)\n",
            "Requirement already satisfied: typing-inspect<1,>=0.4.0 in /usr/local/lib/python3.12/dist-packages (from dataclasses-json<0.7,>=0.6.7->langchain-community) (0.9.0)\n",
            "Requirement already satisfied: jsonpatch<2.0,>=1.33 in /usr/local/lib/python3.12/dist-packages (from langchain-core<2.0.0,>=0.3.75->langchain-community) (1.33)\n",
            "Requirement already satisfied: typing-extensions>=4.7 in /usr/local/lib/python3.12/dist-packages (from langchain-core<2.0.0,>=0.3.75->langchain-community) (4.15.0)\n",
            "Requirement already satisfied: packaging>=23.2 in /usr/local/lib/python3.12/dist-packages (from langchain-core<2.0.0,>=0.3.75->langchain-community) (25.0)\n",
            "Requirement already satisfied: httpx<1,>=0.23.0 in /usr/local/lib/python3.12/dist-packages (from langsmith>=0.1.125->langchain-community) (0.28.1)\n",
            "Requirement already satisfied: orjson>=3.9.14 in /usr/local/lib/python3.12/dist-packages (from langsmith>=0.1.125->langchain-community) (3.11.3)\n",
            "Requirement already satisfied: requests-toolbelt>=1.0.0 in /usr/local/lib/python3.12/dist-packages (from langsmith>=0.1.125->langchain-community) (1.0.0)\n",
            "Requirement already satisfied: zstandard>=0.23.0 in /usr/local/lib/python3.12/dist-packages (from langsmith>=0.1.125->langchain-community) (0.24.0)\n",
            "Requirement already satisfied: annotated-types>=0.6.0 in /usr/local/lib/python3.12/dist-packages (from pydantic<3.0.0,>=2.7.4->langchain) (0.7.0)\n",
            "Requirement already satisfied: pydantic-core==2.33.2 in /usr/local/lib/python3.12/dist-packages (from pydantic<3.0.0,>=2.7.4->langchain) (2.33.2)\n",
            "Requirement already satisfied: typing-inspection>=0.4.0 in /usr/local/lib/python3.12/dist-packages (from pydantic<3.0.0,>=2.7.4->langchain) (0.4.1)\n",
            "Requirement already satisfied: python-dotenv>=0.21.0 in /usr/local/lib/python3.12/dist-packages (from pydantic-settings<3.0.0,>=2.10.1->langchain-community) (1.1.1)\n",
            "Requirement already satisfied: charset_normalizer<4,>=2 in /usr/local/lib/python3.12/dist-packages (from requests<3,>=2.32.5->langchain-community) (3.4.3)\n",
            "Requirement already satisfied: idna<4,>=2.5 in /usr/local/lib/python3.12/dist-packages (from requests<3,>=2.32.5->langchain-community) (3.10)\n",
            "Requirement already satisfied: urllib3<3,>=1.21.1 in /usr/local/lib/python3.12/dist-packages (from requests<3,>=2.32.5->langchain-community) (2.5.0)\n",
            "Requirement already satisfied: certifi>=2017.4.17 in /usr/local/lib/python3.12/dist-packages (from requests<3,>=2.32.5->langchain-community) (2025.8.3)\n",
            "Requirement already satisfied: greenlet>=1 in /usr/local/lib/python3.12/dist-packages (from SQLAlchemy<3,>=1.4->langchain-community) (3.2.4)\n",
            "Requirement already satisfied: anyio in /usr/local/lib/python3.12/dist-packages (from httpx<1,>=0.23.0->langsmith>=0.1.125->langchain-community) (4.10.0)\n",
            "Requirement already satisfied: httpcore==1.* in /usr/local/lib/python3.12/dist-packages (from httpx<1,>=0.23.0->langsmith>=0.1.125->langchain-community) (1.0.9)\n",
            "Requirement already satisfied: h11>=0.16 in /usr/local/lib/python3.12/dist-packages (from httpcore==1.*->httpx<1,>=0.23.0->langsmith>=0.1.125->langchain-community) (0.16.0)\n",
            "Requirement already satisfied: jsonpointer>=1.9 in /usr/local/lib/python3.12/dist-packages (from jsonpatch<2.0,>=1.33->langchain-core<2.0.0,>=0.3.75->langchain-community) (3.0.0)\n",
            "Requirement already satisfied: mypy-extensions>=0.3.0 in /usr/local/lib/python3.12/dist-packages (from typing-inspect<1,>=0.4.0->dataclasses-json<0.7,>=0.6.7->langchain-community) (1.1.0)\n",
            "Requirement already satisfied: sniffio>=1.1 in /usr/local/lib/python3.12/dist-packages (from anyio->httpx<1,>=0.23.0->langsmith>=0.1.125->langchain-community) (1.3.1)\n"
          ]
        }
      ],
      "source": [
        "!pip install langchain-community langchain"
      ]
    },
    {
      "cell_type": "code",
      "execution_count": 26,
      "metadata": {
        "id": "v4ZV8Nh0XZQi"
      },
      "outputs": [],
      "source": [
        "from langchain.vectorstores import FAISS #database\n",
        "from langchain.embeddings import HuggingFaceEmbeddings #word to vector"
      ]
    },
    {
      "cell_type": "code",
      "execution_count": 27,
      "metadata": {
        "colab": {
          "base_uri": "https://localhost:8080/"
        },
        "id": "z3CiuAVUXxMG",
        "outputId": "cc585ef7-0144-4d77-a411-cd58038995cf"
      },
      "outputs": [
        {
          "output_type": "stream",
          "name": "stderr",
          "text": [
            "/tmp/ipython-input-168649516.py:2: LangChainDeprecationWarning: The class `HuggingFaceEmbeddings` was deprecated in LangChain 0.2.2 and will be removed in 1.0. An updated version of the class exists in the :class:`~langchain-huggingface package and should be used instead. To use it run `pip install -U :class:`~langchain-huggingface` and import as `from :class:`~langchain_huggingface import HuggingFaceEmbeddings``.\n",
            "  embeddings=HuggingFaceEmbeddings(model_name=embedding_model) #load embeddings from the model\n",
            "/usr/local/lib/python3.12/dist-packages/huggingface_hub/utils/_auth.py:94: UserWarning: \n",
            "The secret `HF_TOKEN` does not exist in your Colab secrets.\n",
            "To authenticate with the Hugging Face Hub, create a token in your settings tab (https://huggingface.co/settings/tokens), set it as secret in your Google Colab and restart your session.\n",
            "You will be able to reuse this secret in all of your notebooks.\n",
            "Please note that authentication is recommended but still optional to access public models or datasets.\n",
            "  warnings.warn(\n"
          ]
        }
      ],
      "source": [
        "embedding_model=\"sentence-transformers/all-MiniLM-L6-v2\" #fast and simple. (Switch with qwen's own embeddings for better responses, but heavier and requires gpu usage)\n",
        "embeddings=HuggingFaceEmbeddings(model_name=embedding_model) #load embeddings from the model"
      ]
    },
    {
      "cell_type": "code",
      "execution_count": 28,
      "metadata": {
        "id": "ZZVHIrdfYeQl"
      },
      "outputs": [],
      "source": [
        "#create database\n",
        "vector_db=FAISS.from_documents(docs,embeddings)"
      ]
    },
    {
      "cell_type": "code",
      "execution_count": 29,
      "metadata": {
        "id": "gnKY6M2JZFt3"
      },
      "outputs": [],
      "source": [
        "query=\"What are the symptoms, causes and treatments, precautions of Malaria\"\n",
        "result=vector_db.similarity_search(query,k=10)"
      ]
    },
    {
      "cell_type": "code",
      "execution_count": 30,
      "metadata": {
        "colab": {
          "base_uri": "https://localhost:8080/"
        },
        "id": "AL56hc3nbYx_",
        "outputId": "11122eb3-b6b2-4a6e-b582-3314306e77ad"
      },
      "outputs": [
        {
          "output_type": "execute_result",
          "data": {
            "text/plain": [
              "Document(id='c64cf768-d7c6-4e3f-9803-e0bbfadb237a', metadata={'Disease': 'malaria', 'field': 'Cause', 'Severity': 'Mild to severe; can be fatal if untreated', 'References': 'https://www.who.int/news-room/fact-sheets/detail/malaria'}, page_content='Infection by *Plasmodium* parasites transmitted by Anopheles mosquitoes')"
            ]
          },
          "metadata": {},
          "execution_count": 30
        }
      ],
      "source": [
        "result[0]"
      ]
    },
    {
      "cell_type": "code",
      "execution_count": 31,
      "metadata": {
        "id": "9cPQozkXZdSv"
      },
      "outputs": [],
      "source": [
        "data=\"\"\n",
        "for i in range(len(result)):\n",
        "  data+=f\"\"\"{result[i].metadata}\n",
        "  field info: {result[i].page_content}\\n\"\"\""
      ]
    },
    {
      "cell_type": "code",
      "execution_count": 32,
      "metadata": {
        "colab": {
          "base_uri": "https://localhost:8080/"
        },
        "id": "pyb7n4aVbmfV",
        "outputId": "75745908-228c-4401-d864-da565b34ad12"
      },
      "outputs": [
        {
          "output_type": "stream",
          "name": "stdout",
          "text": [
            "{'Disease': 'malaria', 'field': 'Cause', 'Severity': 'Mild to severe; can be fatal if untreated', 'References': 'https://www.who.int/news-room/fact-sheets/detail/malaria'}\n",
            "  field info: Infection by *Plasmodium* parasites transmitted by Anopheles mosquitoes\n",
            "{'Disease': 'dengue fever', 'field': 'Precautions', 'Severity': 'Usually mild; can become severe (hemorrhagic, shock) if untreated', 'References': 'https://www.who.int/news-room/fact-sheets/detail/dengue-and-severe-dengue'}\n",
            "  field info: Prevent mosquito bites; reduce mosquito breeding; use repellents; early recognition of symptoms\n",
            "{'Disease': 'parasitic disease', 'field': 'Symptoms', 'Severity': 'Mild to severe depending on parasite', 'References': 'https://www.who.int/news-room/fact-sheets/detail/soil-transmitted-helminth-infections'}\n",
            "  field info: Fever, diarrhea, weight loss, abdominal pain, anemia depending on parasite\n",
            "{'Disease': 'pulmonary eosinophilia', 'field': 'Precautions', 'Severity': 'Variable: mild (self‑limiting) to severe (respiratory compromise)', 'References': 'https://medlineplus.gov/ency/article/000105.htm'}\n",
            "  field info: Avoid known offending agents; treat parasitic infections; early evaluation of respiratory symptoms\n",
            "{'Disease': 'malaria', 'field': 'Precautions', 'Severity': 'Mild to severe; can be fatal if untreated', 'References': 'https://www.who.int/news-room/fact-sheets/detail/malaria'}\n",
            "  field info: Mosquito control, bed nets, prophylactic medications when traveling to endemic areas\n",
            "{'Disease': 'malaria', 'field': 'Treatment', 'Severity': 'Mild to severe; can be fatal if untreated', 'References': 'https://www.who.int/news-room/fact-sheets/detail/malaria'}\n",
            "  field info: Antimalarial drugs (artemisinin-based therapy, chloroquine depending on type)\n",
            "{'Disease': 'white blood cell disease', 'field': 'Precautions', 'Severity': 'Mild→Severe; leukemias can be life-threatening', 'References': 'https://www.mayoclinic.org/diseases-conditions/leukemia/symptoms-causes/syc-20374373; https://www.cdc.gov/cancer/leukemia/; https://www.ncbi.nlm.nih.gov/books/NBK519062/'}\n",
            "  field info: Avoid infections, vaccination as advised, monitor blood counts, early evaluation of symptoms\n",
            "{'Disease': 'cryptococcosis', 'field': 'Symptoms', 'Severity': 'Can be severe and life-threatening especially in immunocompromised', 'References': 'https://www.cdc.gov/fungal/diseases/cryptococcosis/index.html'}\n",
            "  field info: Fever, headache, cough, shortness of breath, meningitis symptoms (neck stiffness, confusion)\n",
            "{'Disease': 'aspergillosis', 'field': 'Symptoms', 'Severity': 'Mild to severe; invasive aspergillosis can be life-threatening', 'References': 'https://www.cdc.gov/fungal/diseases/aspergillosis/index.html'}\n",
            "  field info: Cough, wheezing, shortness of breath, fever, hemoptysis, weight loss\n",
            "{'Disease': 'viral exanthem', 'field': 'Symptoms', 'Severity': 'Mild to moderate; severe in immunocompromised', 'References': 'https://www.cdc.gov/measles/signs-symptoms/index.html'}\n",
            "  field info: Widespread rash, fever, cough, runny nose, malaise\n",
            "\n"
          ]
        }
      ],
      "source": [
        "print(data)"
      ]
    },
    {
      "cell_type": "code",
      "execution_count": 33,
      "metadata": {
        "colab": {
          "base_uri": "https://localhost:8080/"
        },
        "id": "YXXjrH4Ub_uX",
        "outputId": "e54092d4-5170-48a6-8502-9b38ffcf1e81"
      },
      "outputs": [
        {
          "output_type": "execute_result",
          "data": {
            "text/plain": [
              "3032"
            ]
          },
          "metadata": {},
          "execution_count": 33
        }
      ],
      "source": [
        "len(data)"
      ]
    },
    {
      "cell_type": "code",
      "execution_count": 34,
      "metadata": {
        "id": "skxoCWqHcXzE"
      },
      "outputs": [],
      "source": [
        "#search function\n",
        "def search(query):\n",
        "  result=vector_db.similarity_search(query,k=3)\n",
        "  data=\"\"\n",
        "  for i in range(len(result)):\n",
        "    data+=f\"\"\"{result[i].metadata}\n",
        "    field info: {result[i].page_content}\\n\"\"\"\n",
        "  return data"
      ]
    },
    {
      "cell_type": "markdown",
      "metadata": {
        "id": "ZyTVQTRHgMHq"
      },
      "source": [
        "# Qwen"
      ]
    },
    {
      "cell_type": "code",
      "execution_count": 35,
      "metadata": {
        "colab": {
          "base_uri": "https://localhost:8080/"
        },
        "id": "owSD6lWXIW3D",
        "outputId": "fa05c870-a1f5-4f6a-e9bb-b990f9675613"
      },
      "outputs": [
        {
          "output_type": "stream",
          "name": "stdout",
          "text": [
            "Requirement already satisfied: transformers in /usr/local/lib/python3.12/dist-packages (4.56.1)\n",
            "Requirement already satisfied: accelerate in /usr/local/lib/python3.12/dist-packages (1.10.1)\n",
            "Requirement already satisfied: filelock in /usr/local/lib/python3.12/dist-packages (from transformers) (3.19.1)\n",
            "Requirement already satisfied: huggingface-hub<1.0,>=0.34.0 in /usr/local/lib/python3.12/dist-packages (from transformers) (0.34.4)\n",
            "Requirement already satisfied: numpy>=1.17 in /usr/local/lib/python3.12/dist-packages (from transformers) (1.26.4)\n",
            "Requirement already satisfied: packaging>=20.0 in /usr/local/lib/python3.12/dist-packages (from transformers) (25.0)\n",
            "Requirement already satisfied: pyyaml>=5.1 in /usr/local/lib/python3.12/dist-packages (from transformers) (6.0.2)\n",
            "Requirement already satisfied: regex!=2019.12.17 in /usr/local/lib/python3.12/dist-packages (from transformers) (2024.11.6)\n",
            "Requirement already satisfied: requests in /usr/local/lib/python3.12/dist-packages (from transformers) (2.32.5)\n",
            "Requirement already satisfied: tokenizers<=0.23.0,>=0.22.0 in /usr/local/lib/python3.12/dist-packages (from transformers) (0.22.0)\n",
            "Requirement already satisfied: safetensors>=0.4.3 in /usr/local/lib/python3.12/dist-packages (from transformers) (0.6.2)\n",
            "Requirement already satisfied: tqdm>=4.27 in /usr/local/lib/python3.12/dist-packages (from transformers) (4.67.1)\n",
            "Requirement already satisfied: psutil in /usr/local/lib/python3.12/dist-packages (from accelerate) (5.9.5)\n",
            "Requirement already satisfied: torch>=2.0.0 in /usr/local/lib/python3.12/dist-packages (from accelerate) (2.8.0+cu126)\n",
            "Requirement already satisfied: fsspec>=2023.5.0 in /usr/local/lib/python3.12/dist-packages (from huggingface-hub<1.0,>=0.34.0->transformers) (2025.3.0)\n",
            "Requirement already satisfied: typing-extensions>=3.7.4.3 in /usr/local/lib/python3.12/dist-packages (from huggingface-hub<1.0,>=0.34.0->transformers) (4.15.0)\n",
            "Requirement already satisfied: hf-xet<2.0.0,>=1.1.3 in /usr/local/lib/python3.12/dist-packages (from huggingface-hub<1.0,>=0.34.0->transformers) (1.1.9)\n",
            "Requirement already satisfied: setuptools in /usr/local/lib/python3.12/dist-packages (from torch>=2.0.0->accelerate) (75.2.0)\n",
            "Requirement already satisfied: sympy>=1.13.3 in /usr/local/lib/python3.12/dist-packages (from torch>=2.0.0->accelerate) (1.13.3)\n",
            "Requirement already satisfied: networkx in /usr/local/lib/python3.12/dist-packages (from torch>=2.0.0->accelerate) (3.5)\n",
            "Requirement already satisfied: jinja2 in /usr/local/lib/python3.12/dist-packages (from torch>=2.0.0->accelerate) (3.1.6)\n",
            "Requirement already satisfied: nvidia-cuda-nvrtc-cu12==12.6.77 in /usr/local/lib/python3.12/dist-packages (from torch>=2.0.0->accelerate) (12.6.77)\n",
            "Requirement already satisfied: nvidia-cuda-runtime-cu12==12.6.77 in /usr/local/lib/python3.12/dist-packages (from torch>=2.0.0->accelerate) (12.6.77)\n",
            "Requirement already satisfied: nvidia-cuda-cupti-cu12==12.6.80 in /usr/local/lib/python3.12/dist-packages (from torch>=2.0.0->accelerate) (12.6.80)\n",
            "Requirement already satisfied: nvidia-cudnn-cu12==9.10.2.21 in /usr/local/lib/python3.12/dist-packages (from torch>=2.0.0->accelerate) (9.10.2.21)\n",
            "Requirement already satisfied: nvidia-cublas-cu12==12.6.4.1 in /usr/local/lib/python3.12/dist-packages (from torch>=2.0.0->accelerate) (12.6.4.1)\n",
            "Requirement already satisfied: nvidia-cufft-cu12==11.3.0.4 in /usr/local/lib/python3.12/dist-packages (from torch>=2.0.0->accelerate) (11.3.0.4)\n",
            "Requirement already satisfied: nvidia-curand-cu12==10.3.7.77 in /usr/local/lib/python3.12/dist-packages (from torch>=2.0.0->accelerate) (10.3.7.77)\n",
            "Requirement already satisfied: nvidia-cusolver-cu12==11.7.1.2 in /usr/local/lib/python3.12/dist-packages (from torch>=2.0.0->accelerate) (11.7.1.2)\n",
            "Requirement already satisfied: nvidia-cusparse-cu12==12.5.4.2 in /usr/local/lib/python3.12/dist-packages (from torch>=2.0.0->accelerate) (12.5.4.2)\n",
            "Requirement already satisfied: nvidia-cusparselt-cu12==0.7.1 in /usr/local/lib/python3.12/dist-packages (from torch>=2.0.0->accelerate) (0.7.1)\n",
            "Requirement already satisfied: nvidia-nccl-cu12==2.27.3 in /usr/local/lib/python3.12/dist-packages (from torch>=2.0.0->accelerate) (2.27.3)\n",
            "Requirement already satisfied: nvidia-nvtx-cu12==12.6.77 in /usr/local/lib/python3.12/dist-packages (from torch>=2.0.0->accelerate) (12.6.77)\n",
            "Requirement already satisfied: nvidia-nvjitlink-cu12==12.6.85 in /usr/local/lib/python3.12/dist-packages (from torch>=2.0.0->accelerate) (12.6.85)\n",
            "Requirement already satisfied: nvidia-cufile-cu12==1.11.1.6 in /usr/local/lib/python3.12/dist-packages (from torch>=2.0.0->accelerate) (1.11.1.6)\n",
            "Requirement already satisfied: triton==3.4.0 in /usr/local/lib/python3.12/dist-packages (from torch>=2.0.0->accelerate) (3.4.0)\n",
            "Requirement already satisfied: charset_normalizer<4,>=2 in /usr/local/lib/python3.12/dist-packages (from requests->transformers) (3.4.3)\n",
            "Requirement already satisfied: idna<4,>=2.5 in /usr/local/lib/python3.12/dist-packages (from requests->transformers) (3.10)\n",
            "Requirement already satisfied: urllib3<3,>=1.21.1 in /usr/local/lib/python3.12/dist-packages (from requests->transformers) (2.5.0)\n",
            "Requirement already satisfied: certifi>=2017.4.17 in /usr/local/lib/python3.12/dist-packages (from requests->transformers) (2025.8.3)\n",
            "Requirement already satisfied: mpmath<1.4,>=1.1.0 in /usr/local/lib/python3.12/dist-packages (from sympy>=1.13.3->torch>=2.0.0->accelerate) (1.3.0)\n",
            "Requirement already satisfied: MarkupSafe>=2.0 in /usr/local/lib/python3.12/dist-packages (from jinja2->torch>=2.0.0->accelerate) (3.0.2)\n"
          ]
        }
      ],
      "source": [
        "!pip install transformers accelerate"
      ]
    },
    {
      "cell_type": "code",
      "execution_count": 36,
      "metadata": {
        "colab": {
          "base_uri": "https://localhost:8080/"
        },
        "id": "gHWC1scZR2k8",
        "outputId": "e08e0dfe-ad61-4fcb-a257-73fd27674951"
      },
      "outputs": [
        {
          "output_type": "stream",
          "name": "stdout",
          "text": [
            "Found existing installation: bitsandbytes 0.47.0\n",
            "Uninstalling bitsandbytes-0.47.0:\n",
            "  Successfully uninstalled bitsandbytes-0.47.0\n",
            "Collecting bitsandbytes\n",
            "  Using cached bitsandbytes-0.47.0-py3-none-manylinux_2_24_x86_64.whl.metadata (11 kB)\n",
            "Requirement already satisfied: torch<3,>=2.2 in /usr/local/lib/python3.12/dist-packages (from bitsandbytes) (2.8.0+cu126)\n",
            "Requirement already satisfied: numpy>=1.17 in /usr/local/lib/python3.12/dist-packages (from bitsandbytes) (1.26.4)\n",
            "Requirement already satisfied: filelock in /usr/local/lib/python3.12/dist-packages (from torch<3,>=2.2->bitsandbytes) (3.19.1)\n",
            "Requirement already satisfied: typing-extensions>=4.10.0 in /usr/local/lib/python3.12/dist-packages (from torch<3,>=2.2->bitsandbytes) (4.15.0)\n",
            "Requirement already satisfied: setuptools in /usr/local/lib/python3.12/dist-packages (from torch<3,>=2.2->bitsandbytes) (75.2.0)\n",
            "Requirement already satisfied: sympy>=1.13.3 in /usr/local/lib/python3.12/dist-packages (from torch<3,>=2.2->bitsandbytes) (1.13.3)\n",
            "Requirement already satisfied: networkx in /usr/local/lib/python3.12/dist-packages (from torch<3,>=2.2->bitsandbytes) (3.5)\n",
            "Requirement already satisfied: jinja2 in /usr/local/lib/python3.12/dist-packages (from torch<3,>=2.2->bitsandbytes) (3.1.6)\n",
            "Requirement already satisfied: fsspec in /usr/local/lib/python3.12/dist-packages (from torch<3,>=2.2->bitsandbytes) (2025.3.0)\n",
            "Requirement already satisfied: nvidia-cuda-nvrtc-cu12==12.6.77 in /usr/local/lib/python3.12/dist-packages (from torch<3,>=2.2->bitsandbytes) (12.6.77)\n",
            "Requirement already satisfied: nvidia-cuda-runtime-cu12==12.6.77 in /usr/local/lib/python3.12/dist-packages (from torch<3,>=2.2->bitsandbytes) (12.6.77)\n",
            "Requirement already satisfied: nvidia-cuda-cupti-cu12==12.6.80 in /usr/local/lib/python3.12/dist-packages (from torch<3,>=2.2->bitsandbytes) (12.6.80)\n",
            "Requirement already satisfied: nvidia-cudnn-cu12==9.10.2.21 in /usr/local/lib/python3.12/dist-packages (from torch<3,>=2.2->bitsandbytes) (9.10.2.21)\n",
            "Requirement already satisfied: nvidia-cublas-cu12==12.6.4.1 in /usr/local/lib/python3.12/dist-packages (from torch<3,>=2.2->bitsandbytes) (12.6.4.1)\n",
            "Requirement already satisfied: nvidia-cufft-cu12==11.3.0.4 in /usr/local/lib/python3.12/dist-packages (from torch<3,>=2.2->bitsandbytes) (11.3.0.4)\n",
            "Requirement already satisfied: nvidia-curand-cu12==10.3.7.77 in /usr/local/lib/python3.12/dist-packages (from torch<3,>=2.2->bitsandbytes) (10.3.7.77)\n",
            "Requirement already satisfied: nvidia-cusolver-cu12==11.7.1.2 in /usr/local/lib/python3.12/dist-packages (from torch<3,>=2.2->bitsandbytes) (11.7.1.2)\n",
            "Requirement already satisfied: nvidia-cusparse-cu12==12.5.4.2 in /usr/local/lib/python3.12/dist-packages (from torch<3,>=2.2->bitsandbytes) (12.5.4.2)\n",
            "Requirement already satisfied: nvidia-cusparselt-cu12==0.7.1 in /usr/local/lib/python3.12/dist-packages (from torch<3,>=2.2->bitsandbytes) (0.7.1)\n",
            "Requirement already satisfied: nvidia-nccl-cu12==2.27.3 in /usr/local/lib/python3.12/dist-packages (from torch<3,>=2.2->bitsandbytes) (2.27.3)\n",
            "Requirement already satisfied: nvidia-nvtx-cu12==12.6.77 in /usr/local/lib/python3.12/dist-packages (from torch<3,>=2.2->bitsandbytes) (12.6.77)\n",
            "Requirement already satisfied: nvidia-nvjitlink-cu12==12.6.85 in /usr/local/lib/python3.12/dist-packages (from torch<3,>=2.2->bitsandbytes) (12.6.85)\n",
            "Requirement already satisfied: nvidia-cufile-cu12==1.11.1.6 in /usr/local/lib/python3.12/dist-packages (from torch<3,>=2.2->bitsandbytes) (1.11.1.6)\n",
            "Requirement already satisfied: triton==3.4.0 in /usr/local/lib/python3.12/dist-packages (from torch<3,>=2.2->bitsandbytes) (3.4.0)\n",
            "Requirement already satisfied: mpmath<1.4,>=1.1.0 in /usr/local/lib/python3.12/dist-packages (from sympy>=1.13.3->torch<3,>=2.2->bitsandbytes) (1.3.0)\n",
            "Requirement already satisfied: MarkupSafe>=2.0 in /usr/local/lib/python3.12/dist-packages (from jinja2->torch<3,>=2.2->bitsandbytes) (3.0.2)\n",
            "Using cached bitsandbytes-0.47.0-py3-none-manylinux_2_24_x86_64.whl (61.3 MB)\n",
            "Installing collected packages: bitsandbytes\n",
            "Successfully installed bitsandbytes-0.47.0\n"
          ]
        }
      ],
      "source": [
        "!pip uninstall -y bitsandbytes\n",
        "!pip install -U bitsandbytes\n",
        "#for quantization\n",
        "\n",
        "# pip uninstall -y bitsandbytes\n",
        "# pip install --no-cache-dir bitsandbytes==0.43.3\n"
      ]
    },
    {
      "cell_type": "code",
      "execution_count": 37,
      "metadata": {
        "colab": {
          "base_uri": "https://localhost:8080/"
        },
        "id": "I547DbwhNsj0",
        "outputId": "c57af606-7f8a-4e72-d86f-0f432a225b85"
      },
      "outputs": [
        {
          "output_type": "stream",
          "name": "stdout",
          "text": [
            "Requirement already satisfied: transformers_stream_generator in /usr/local/lib/python3.12/dist-packages (0.0.5)\n",
            "Requirement already satisfied: transformers>=4.26.1 in /usr/local/lib/python3.12/dist-packages (from transformers_stream_generator) (4.56.1)\n",
            "Requirement already satisfied: filelock in /usr/local/lib/python3.12/dist-packages (from transformers>=4.26.1->transformers_stream_generator) (3.19.1)\n",
            "Requirement already satisfied: huggingface-hub<1.0,>=0.34.0 in /usr/local/lib/python3.12/dist-packages (from transformers>=4.26.1->transformers_stream_generator) (0.34.4)\n",
            "Requirement already satisfied: numpy>=1.17 in /usr/local/lib/python3.12/dist-packages (from transformers>=4.26.1->transformers_stream_generator) (1.26.4)\n",
            "Requirement already satisfied: packaging>=20.0 in /usr/local/lib/python3.12/dist-packages (from transformers>=4.26.1->transformers_stream_generator) (25.0)\n",
            "Requirement already satisfied: pyyaml>=5.1 in /usr/local/lib/python3.12/dist-packages (from transformers>=4.26.1->transformers_stream_generator) (6.0.2)\n",
            "Requirement already satisfied: regex!=2019.12.17 in /usr/local/lib/python3.12/dist-packages (from transformers>=4.26.1->transformers_stream_generator) (2024.11.6)\n",
            "Requirement already satisfied: requests in /usr/local/lib/python3.12/dist-packages (from transformers>=4.26.1->transformers_stream_generator) (2.32.5)\n",
            "Requirement already satisfied: tokenizers<=0.23.0,>=0.22.0 in /usr/local/lib/python3.12/dist-packages (from transformers>=4.26.1->transformers_stream_generator) (0.22.0)\n",
            "Requirement already satisfied: safetensors>=0.4.3 in /usr/local/lib/python3.12/dist-packages (from transformers>=4.26.1->transformers_stream_generator) (0.6.2)\n",
            "Requirement already satisfied: tqdm>=4.27 in /usr/local/lib/python3.12/dist-packages (from transformers>=4.26.1->transformers_stream_generator) (4.67.1)\n",
            "Requirement already satisfied: fsspec>=2023.5.0 in /usr/local/lib/python3.12/dist-packages (from huggingface-hub<1.0,>=0.34.0->transformers>=4.26.1->transformers_stream_generator) (2025.3.0)\n",
            "Requirement already satisfied: typing-extensions>=3.7.4.3 in /usr/local/lib/python3.12/dist-packages (from huggingface-hub<1.0,>=0.34.0->transformers>=4.26.1->transformers_stream_generator) (4.15.0)\n",
            "Requirement already satisfied: hf-xet<2.0.0,>=1.1.3 in /usr/local/lib/python3.12/dist-packages (from huggingface-hub<1.0,>=0.34.0->transformers>=4.26.1->transformers_stream_generator) (1.1.9)\n",
            "Requirement already satisfied: charset_normalizer<4,>=2 in /usr/local/lib/python3.12/dist-packages (from requests->transformers>=4.26.1->transformers_stream_generator) (3.4.3)\n",
            "Requirement already satisfied: idna<4,>=2.5 in /usr/local/lib/python3.12/dist-packages (from requests->transformers>=4.26.1->transformers_stream_generator) (3.10)\n",
            "Requirement already satisfied: urllib3<3,>=1.21.1 in /usr/local/lib/python3.12/dist-packages (from requests->transformers>=4.26.1->transformers_stream_generator) (2.5.0)\n",
            "Requirement already satisfied: certifi>=2017.4.17 in /usr/local/lib/python3.12/dist-packages (from requests->transformers>=4.26.1->transformers_stream_generator) (2025.8.3)\n"
          ]
        }
      ],
      "source": [
        "!pip install transformers_stream_generator\n",
        "#to run qwen's custom code"
      ]
    },
    {
      "cell_type": "code",
      "execution_count": 38,
      "metadata": {
        "id": "pgAunuTgeVz-"
      },
      "outputs": [],
      "source": [
        "from transformers import AutoModelForCausalLM\n",
        "from transformers import AutoTokenizer\n",
        "import torch\n",
        "from transformers import BitsAndBytesConfig"
      ]
    },
    {
      "cell_type": "code",
      "execution_count": 39,
      "metadata": {
        "colab": {
          "base_uri": "https://localhost:8080/",
          "height": 243,
          "referenced_widgets": [
            "4ee474e74327428aa5fbf5353e67ffb3",
            "51433d69cac14e1d92ed36ac743eb4f3",
            "5c95a67a71764979b879ef82b76e447b",
            "3245bf60e0be49ccbbffce5be2076ec6",
            "a061ab524e314addb7b81cd8d04b18cf",
            "49a91f3a330d4363b25fe2549a487e9e",
            "5991a909b2d543fbaccc69dd6b0a1b1a",
            "c19aeaca3c31449191de6d535f18d783",
            "fe771d0c982449819d8fb173b18e1a39",
            "2b25eabd201d498ab5ed4a16fe27a643",
            "f37fb3e1b8224bc5b31e91664534bf10"
          ]
        },
        "id": "itANpJV9Iv5A",
        "outputId": "36b6e541-2c8a-4a92-8aa6-a179c9d657d7"
      },
      "outputs": [
        {
          "output_type": "stream",
          "name": "stderr",
          "text": [
            "WARNING:transformers_modules.Qwen.Qwen-7B.ef3c5c9c57b252f3149c1408daf4d649ec8b6c85.modeling_qwen:The model is automatically converting to bf16 for faster inference. If you want to disable the automatic precision, please manually add bf16/fp16/fp32=True to \"AutoModelForCausalLM.from_pretrained\".\n",
            "WARNING:transformers_modules.Qwen.Qwen-7B.ef3c5c9c57b252f3149c1408daf4d649ec8b6c85.modeling_qwen:Try importing flash-attention for faster inference...\n",
            "WARNING:transformers_modules.Qwen.Qwen-7B.ef3c5c9c57b252f3149c1408daf4d649ec8b6c85.modeling_qwen:Warning: import flash_attn rotary fail, please install FlashAttention rotary to get higher efficiency https://github.com/Dao-AILab/flash-attention/tree/main/csrc/rotary\n",
            "WARNING:transformers_modules.Qwen.Qwen-7B.ef3c5c9c57b252f3149c1408daf4d649ec8b6c85.modeling_qwen:Warning: import flash_attn rms_norm fail, please install FlashAttention layer_norm to get higher efficiency https://github.com/Dao-AILab/flash-attention/tree/main/csrc/layer_norm\n",
            "WARNING:transformers_modules.Qwen.Qwen-7B.ef3c5c9c57b252f3149c1408daf4d649ec8b6c85.modeling_qwen:Warning: import flash_attn fail, please install FlashAttention to get higher efficiency https://github.com/Dao-AILab/flash-attention\n"
          ]
        },
        {
          "output_type": "display_data",
          "data": {
            "text/plain": [
              "Loading checkpoint shards:   0%|          | 0/8 [00:00<?, ?it/s]"
            ],
            "application/vnd.jupyter.widget-view+json": {
              "version_major": 2,
              "version_minor": 0,
              "model_id": "4ee474e74327428aa5fbf5353e67ffb3"
            }
          },
          "metadata": {}
        },
        {
          "name": "stdout",
          "output_type": "stream",
          "text": [
            "The repository Qwen/Qwen-7B contains custom code which must be executed to correctly load the model. You can inspect the repository content at https://hf.co/Qwen/Qwen-7B .\n",
            " You can inspect the repository content at https://hf.co/Qwen/Qwen-7B.\n",
            "You can avoid this prompt in future by passing the argument `trust_remote_code=True`.\n",
            "\n",
            "Do you wish to run the custom code? [y/N] y\n"
          ]
        }
      ],
      "source": [
        "model_name=\"Qwen/Qwen-7B\"\n",
        "device=torch.device(\"cuda\" if torch.cuda.is_available() else \"cpu\")\n",
        "\n",
        "bnb_config = BitsAndBytesConfig(\n",
        "    load_in_4bit=True,   # enable 4-bit\n",
        "    bnb_4bit_quant_type=\"nf4\",\n",
        "    bnb_4bit_compute_dtype=torch.float16\n",
        ")\n",
        "\n",
        "model=AutoModelForCausalLM.from_pretrained(\n",
        "    model_name,\n",
        "    device_map=\"auto\",\n",
        "    trust_remote_code=True,\n",
        "    quantization_config=bnb_config\n",
        ")\n",
        "tokenizer=AutoTokenizer.from_pretrained(model_name)"
      ]
    },
    {
      "cell_type": "code",
      "execution_count": 40,
      "metadata": {
        "id": "azZpNPlLJ-SE"
      },
      "outputs": [],
      "source": [
        "def response(query):\n",
        "  context=search(query)\n",
        "  prompt=f\"\"\"\n",
        "You are a healthcare assistant. You will be given trusted medical context about a disease.\n",
        "Using only the provided context, generate a response in the following strict format:\n",
        "\n",
        "\n",
        "  \"Causes\": \"bullet point 1\", \"bullet point 2\", \"...\",\n",
        "  \"Symptoms\": \"bullet point 1\", \"bullet point 2\", \"...\",\n",
        "  \"Treatment\": \"bullet point 1\", \"bullet point 2\", \"...\",\n",
        "  \"Precautions\": \"bullet point 1\", \"bullet point 2\", \"...\",\n",
        "  \"References\": \"URLs or source IDs\"\n",
        "\n",
        "\n",
        "Rules:\n",
        "1. Do not invent information. If data is missing in the context, put [\"Not available in the database.\"] for that field.\n",
        "2. Do not add extra text and formatting.\n",
        "3. The References field must always include at least one source link or retriever ID if any disease-specific info is provided.\n",
        "4. Keep each bullet short, clear, and user-friendly.\n",
        "5. Always end your response with:\n",
        "    Note: This information is for educational purposes only. Please consult a qualified healthcare professional for medical advice.\n",
        "\n",
        "\n",
        "Question: {query\n",
        "           }\n",
        "\n",
        "context: {context}\n",
        "\n",
        "Answer:\n",
        "\"\"\"\n",
        "  inputs=tokenizer(prompt,return_tensors=\"pt\").to(device)\n",
        "  outputs=model.generate(**inputs,max_new_tokens=256, pad_token_id=tokenizer.eos_token_id,use_cache=False )\n",
        "  res=tokenizer.decode(outputs[0],skip_special_tokens=True)\n",
        "  return res.split(\"Answer:\")[1]"
      ]
    },
    {
      "cell_type": "code",
      "execution_count": 41,
      "metadata": {
        "id": "elQGCApxQvj3"
      },
      "outputs": [],
      "source": [
        "# query=\"Tell me about dengu\"\n",
        "# res=response(query)\n",
        "# res"
      ]
    },
    {
      "cell_type": "code",
      "execution_count": 42,
      "metadata": {
        "id": "h6GQDKFWg1BF"
      },
      "outputs": [],
      "source": [
        "# print(res.split(\"Answer:\")[1])"
      ]
    },
    {
      "cell_type": "markdown",
      "metadata": {
        "id": "81tpLTifTapo"
      },
      "source": [
        "# IndicTrans2"
      ]
    },
    {
      "cell_type": "code",
      "execution_count": 43,
      "metadata": {
        "id": "Nn5RPRaxSKgD"
      },
      "outputs": [],
      "source": [
        "from transformers import AutoModelForSeq2SeqLM\n",
        "from transformers import AutoTokenizer\n",
        "import torch\n",
        "device=torch.device(\"cuda\" if torch.cuda.is_available() else \"cpu\")"
      ]
    },
    {
      "cell_type": "code",
      "execution_count": 44,
      "metadata": {
        "colab": {
          "base_uri": "https://localhost:8080/"
        },
        "id": "ukPaHhTRPzGS",
        "outputId": "adb0abb6-33b9-49f1-f75d-e77244539394"
      },
      "outputs": [
        {
          "output_type": "stream",
          "name": "stderr",
          "text": [
            "`torch_dtype` is deprecated! Use `dtype` instead!\n"
          ]
        }
      ],
      "source": [
        "regional_model_name=\"ai4bharat/indictrans2-en-indic-dist-200M\"\n",
        "english_model_name=\"ai4bharat/indictrans2-indic-en-dist-200M\"\n",
        "regional_model=AutoModelForSeq2SeqLM.from_pretrained(regional_model_name,trust_remote_code=True,torch_dtype=torch.float16).to(device)\n",
        "english_model=AutoModelForSeq2SeqLM.from_pretrained(english_model_name,trust_remote_code=True,torch_dtype=torch.float16).to(device)\n",
        "regional_tokenizer=AutoTokenizer.from_pretrained(regional_model_name,trust_remote_code=True)\n",
        "english_tokenizer=AutoTokenizer.from_pretrained(english_model_name,trust_remote_code=True)"
      ]
    },
    {
      "cell_type": "code",
      "execution_count": 45,
      "metadata": {
        "colab": {
          "base_uri": "https://localhost:8080/"
        },
        "id": "GBU135H6XQOR",
        "outputId": "d5ea5092-f083-4077-b3e8-979c184906d0"
      },
      "outputs": [
        {
          "output_type": "stream",
          "name": "stdout",
          "text": [
            "Requirement already satisfied: IndicTransToolkit in /usr/local/lib/python3.12/dist-packages (1.1.1)\n",
            "Requirement already satisfied: cython in /usr/local/lib/python3.12/dist-packages (from IndicTransToolkit) (3.0.12)\n",
            "Requirement already satisfied: sacremoses in /usr/local/lib/python3.12/dist-packages (from IndicTransToolkit) (0.1.1)\n",
            "Requirement already satisfied: transformers in /usr/local/lib/python3.12/dist-packages (from IndicTransToolkit) (4.56.1)\n",
            "Requirement already satisfied: sacrebleu in /usr/local/lib/python3.12/dist-packages (from IndicTransToolkit) (2.5.1)\n",
            "Requirement already satisfied: indic-nlp-library-itt in /usr/local/lib/python3.12/dist-packages (from IndicTransToolkit) (0.1.1)\n",
            "Requirement already satisfied: morfessor in /usr/local/lib/python3.12/dist-packages (from indic-nlp-library-itt->IndicTransToolkit) (2.0.6)\n",
            "Requirement already satisfied: numpy in /usr/local/lib/python3.12/dist-packages (from indic-nlp-library-itt->IndicTransToolkit) (1.26.4)\n",
            "Requirement already satisfied: pandas in /usr/local/lib/python3.12/dist-packages (from indic-nlp-library-itt->IndicTransToolkit) (2.2.2)\n",
            "Requirement already satisfied: sphinx-argparse in /usr/local/lib/python3.12/dist-packages (from indic-nlp-library-itt->IndicTransToolkit) (0.5.2)\n",
            "Requirement already satisfied: sphinx-rtd-theme in /usr/local/lib/python3.12/dist-packages (from indic-nlp-library-itt->IndicTransToolkit) (3.0.2)\n",
            "Requirement already satisfied: portalocker in /usr/local/lib/python3.12/dist-packages (from sacrebleu->IndicTransToolkit) (3.2.0)\n",
            "Requirement already satisfied: regex in /usr/local/lib/python3.12/dist-packages (from sacrebleu->IndicTransToolkit) (2024.11.6)\n",
            "Requirement already satisfied: tabulate>=0.8.9 in /usr/local/lib/python3.12/dist-packages (from sacrebleu->IndicTransToolkit) (0.9.0)\n",
            "Requirement already satisfied: colorama in /usr/local/lib/python3.12/dist-packages (from sacrebleu->IndicTransToolkit) (0.4.6)\n",
            "Requirement already satisfied: lxml in /usr/local/lib/python3.12/dist-packages (from sacrebleu->IndicTransToolkit) (5.4.0)\n",
            "Requirement already satisfied: click in /usr/local/lib/python3.12/dist-packages (from sacremoses->IndicTransToolkit) (8.2.1)\n",
            "Requirement already satisfied: joblib in /usr/local/lib/python3.12/dist-packages (from sacremoses->IndicTransToolkit) (1.5.2)\n",
            "Requirement already satisfied: tqdm in /usr/local/lib/python3.12/dist-packages (from sacremoses->IndicTransToolkit) (4.67.1)\n",
            "Requirement already satisfied: filelock in /usr/local/lib/python3.12/dist-packages (from transformers->IndicTransToolkit) (3.19.1)\n",
            "Requirement already satisfied: huggingface-hub<1.0,>=0.34.0 in /usr/local/lib/python3.12/dist-packages (from transformers->IndicTransToolkit) (0.34.4)\n",
            "Requirement already satisfied: packaging>=20.0 in /usr/local/lib/python3.12/dist-packages (from transformers->IndicTransToolkit) (25.0)\n",
            "Requirement already satisfied: pyyaml>=5.1 in /usr/local/lib/python3.12/dist-packages (from transformers->IndicTransToolkit) (6.0.2)\n",
            "Requirement already satisfied: requests in /usr/local/lib/python3.12/dist-packages (from transformers->IndicTransToolkit) (2.32.5)\n",
            "Requirement already satisfied: tokenizers<=0.23.0,>=0.22.0 in /usr/local/lib/python3.12/dist-packages (from transformers->IndicTransToolkit) (0.22.0)\n",
            "Requirement already satisfied: safetensors>=0.4.3 in /usr/local/lib/python3.12/dist-packages (from transformers->IndicTransToolkit) (0.6.2)\n",
            "Requirement already satisfied: fsspec>=2023.5.0 in /usr/local/lib/python3.12/dist-packages (from huggingface-hub<1.0,>=0.34.0->transformers->IndicTransToolkit) (2025.3.0)\n",
            "Requirement already satisfied: typing-extensions>=3.7.4.3 in /usr/local/lib/python3.12/dist-packages (from huggingface-hub<1.0,>=0.34.0->transformers->IndicTransToolkit) (4.15.0)\n",
            "Requirement already satisfied: hf-xet<2.0.0,>=1.1.3 in /usr/local/lib/python3.12/dist-packages (from huggingface-hub<1.0,>=0.34.0->transformers->IndicTransToolkit) (1.1.9)\n",
            "Requirement already satisfied: python-dateutil>=2.8.2 in /usr/local/lib/python3.12/dist-packages (from pandas->indic-nlp-library-itt->IndicTransToolkit) (2.9.0.post0)\n",
            "Requirement already satisfied: pytz>=2020.1 in /usr/local/lib/python3.12/dist-packages (from pandas->indic-nlp-library-itt->IndicTransToolkit) (2025.2)\n",
            "Requirement already satisfied: tzdata>=2022.7 in /usr/local/lib/python3.12/dist-packages (from pandas->indic-nlp-library-itt->IndicTransToolkit) (2025.2)\n",
            "Requirement already satisfied: charset_normalizer<4,>=2 in /usr/local/lib/python3.12/dist-packages (from requests->transformers->IndicTransToolkit) (3.4.3)\n",
            "Requirement already satisfied: idna<4,>=2.5 in /usr/local/lib/python3.12/dist-packages (from requests->transformers->IndicTransToolkit) (3.10)\n",
            "Requirement already satisfied: urllib3<3,>=1.21.1 in /usr/local/lib/python3.12/dist-packages (from requests->transformers->IndicTransToolkit) (2.5.0)\n",
            "Requirement already satisfied: certifi>=2017.4.17 in /usr/local/lib/python3.12/dist-packages (from requests->transformers->IndicTransToolkit) (2025.8.3)\n",
            "Requirement already satisfied: sphinx>=5.1.0 in /usr/local/lib/python3.12/dist-packages (from sphinx-argparse->indic-nlp-library-itt->IndicTransToolkit) (8.2.3)\n",
            "Requirement already satisfied: docutils>=0.19 in /usr/local/lib/python3.12/dist-packages (from sphinx-argparse->indic-nlp-library-itt->IndicTransToolkit) (0.21.2)\n",
            "Requirement already satisfied: sphinxcontrib-jquery<5,>=4 in /usr/local/lib/python3.12/dist-packages (from sphinx-rtd-theme->indic-nlp-library-itt->IndicTransToolkit) (4.1)\n",
            "Requirement already satisfied: six>=1.5 in /usr/local/lib/python3.12/dist-packages (from python-dateutil>=2.8.2->pandas->indic-nlp-library-itt->IndicTransToolkit) (1.17.0)\n",
            "Requirement already satisfied: sphinxcontrib-applehelp>=1.0.7 in /usr/local/lib/python3.12/dist-packages (from sphinx>=5.1.0->sphinx-argparse->indic-nlp-library-itt->IndicTransToolkit) (2.0.0)\n",
            "Requirement already satisfied: sphinxcontrib-devhelp>=1.0.6 in /usr/local/lib/python3.12/dist-packages (from sphinx>=5.1.0->sphinx-argparse->indic-nlp-library-itt->IndicTransToolkit) (2.0.0)\n",
            "Requirement already satisfied: sphinxcontrib-htmlhelp>=2.0.6 in /usr/local/lib/python3.12/dist-packages (from sphinx>=5.1.0->sphinx-argparse->indic-nlp-library-itt->IndicTransToolkit) (2.1.0)\n",
            "Requirement already satisfied: sphinxcontrib-jsmath>=1.0.1 in /usr/local/lib/python3.12/dist-packages (from sphinx>=5.1.0->sphinx-argparse->indic-nlp-library-itt->IndicTransToolkit) (1.0.1)\n",
            "Requirement already satisfied: sphinxcontrib-qthelp>=1.0.6 in /usr/local/lib/python3.12/dist-packages (from sphinx>=5.1.0->sphinx-argparse->indic-nlp-library-itt->IndicTransToolkit) (2.0.0)\n",
            "Requirement already satisfied: sphinxcontrib-serializinghtml>=1.1.9 in /usr/local/lib/python3.12/dist-packages (from sphinx>=5.1.0->sphinx-argparse->indic-nlp-library-itt->IndicTransToolkit) (2.0.0)\n",
            "Requirement already satisfied: Jinja2>=3.1 in /usr/local/lib/python3.12/dist-packages (from sphinx>=5.1.0->sphinx-argparse->indic-nlp-library-itt->IndicTransToolkit) (3.1.6)\n",
            "Requirement already satisfied: Pygments>=2.17 in /usr/local/lib/python3.12/dist-packages (from sphinx>=5.1.0->sphinx-argparse->indic-nlp-library-itt->IndicTransToolkit) (2.19.2)\n",
            "Requirement already satisfied: snowballstemmer>=2.2 in /usr/local/lib/python3.12/dist-packages (from sphinx>=5.1.0->sphinx-argparse->indic-nlp-library-itt->IndicTransToolkit) (3.0.1)\n",
            "Requirement already satisfied: babel>=2.13 in /usr/local/lib/python3.12/dist-packages (from sphinx>=5.1.0->sphinx-argparse->indic-nlp-library-itt->IndicTransToolkit) (2.17.0)\n",
            "Requirement already satisfied: alabaster>=0.7.14 in /usr/local/lib/python3.12/dist-packages (from sphinx>=5.1.0->sphinx-argparse->indic-nlp-library-itt->IndicTransToolkit) (1.0.0)\n",
            "Requirement already satisfied: imagesize>=1.3 in /usr/local/lib/python3.12/dist-packages (from sphinx>=5.1.0->sphinx-argparse->indic-nlp-library-itt->IndicTransToolkit) (1.4.1)\n",
            "Requirement already satisfied: roman-numerals-py>=1.0.0 in /usr/local/lib/python3.12/dist-packages (from sphinx>=5.1.0->sphinx-argparse->indic-nlp-library-itt->IndicTransToolkit) (3.1.0)\n",
            "Requirement already satisfied: MarkupSafe>=2.0 in /usr/local/lib/python3.12/dist-packages (from Jinja2>=3.1->sphinx>=5.1.0->sphinx-argparse->indic-nlp-library-itt->IndicTransToolkit) (3.0.2)\n"
          ]
        }
      ],
      "source": [
        "!pip install IndicTransToolkit"
      ]
    },
    {
      "cell_type": "code",
      "execution_count": 46,
      "metadata": {
        "id": "V91pPFglXK4K"
      },
      "outputs": [],
      "source": [
        "from IndicTransToolkit.processor import IndicProcessor"
      ]
    },
    {
      "cell_type": "markdown",
      "metadata": {
        "id": "eAgDbw4kidA4"
      },
      "source": [
        "#### Language detection"
      ]
    },
    {
      "cell_type": "code",
      "execution_count": 47,
      "metadata": {
        "colab": {
          "base_uri": "https://localhost:8080/"
        },
        "id": "R5Dnhu-Kif5Y",
        "outputId": "842b6a1a-3075-45cd-9a50-812a342f7ae3"
      },
      "outputs": [
        {
          "output_type": "stream",
          "name": "stdout",
          "text": [
            "Requirement already satisfied: fasttext in /usr/local/lib/python3.12/dist-packages (0.9.3)\n",
            "Requirement already satisfied: pybind11>=2.2 in /usr/local/lib/python3.12/dist-packages (from fasttext) (3.0.1)\n",
            "Requirement already satisfied: setuptools>=0.7.0 in /usr/local/lib/python3.12/dist-packages (from fasttext) (75.2.0)\n",
            "Requirement already satisfied: numpy in /usr/local/lib/python3.12/dist-packages (from fasttext) (1.26.4)\n",
            "--2025-09-18 13:37:45--  https://dl.fbaipublicfiles.com/fasttext/supervised-models/lid.176.bin\n",
            "Resolving dl.fbaipublicfiles.com (dl.fbaipublicfiles.com)... 54.240.184.91, 54.240.184.75, 54.240.184.92, ...\n",
            "Connecting to dl.fbaipublicfiles.com (dl.fbaipublicfiles.com)|54.240.184.91|:443... connected.\n",
            "HTTP request sent, awaiting response... 200 OK\n",
            "Length: 131266198 (125M) [application/octet-stream]\n",
            "Saving to: ‘lid.176.bin.1’\n",
            "\n",
            "lid.176.bin.1       100%[===================>] 125.18M   145MB/s    in 0.9s    \n",
            "\n",
            "2025-09-18 13:37:46 (145 MB/s) - ‘lid.176.bin.1’ saved [131266198/131266198]\n",
            "\n"
          ]
        }
      ],
      "source": [
        "!pip install fasttext\n",
        "!wget https://dl.fbaipublicfiles.com/fasttext/supervised-models/lid.176.bin"
      ]
    },
    {
      "cell_type": "code",
      "execution_count": 48,
      "metadata": {
        "colab": {
          "base_uri": "https://localhost:8080/"
        },
        "id": "YS3A56Awg2J0",
        "outputId": "5ba753d5-dc70-48fb-cd01-1d46bcf3e2b7"
      },
      "outputs": [
        {
          "output_type": "stream",
          "name": "stdout",
          "text": [
            "Requirement already satisfied: numpy<2.0 in /usr/local/lib/python3.12/dist-packages (1.26.4)\n"
          ]
        }
      ],
      "source": [
        "!pip install \"numpy<2.0\""
      ]
    },
    {
      "cell_type": "code",
      "execution_count": 49,
      "metadata": {
        "id": "Hj_vouOSijbJ"
      },
      "outputs": [],
      "source": [
        "import fasttext\n",
        "ld_model=fasttext.load_model(\"lid.176.bin\")"
      ]
    },
    {
      "cell_type": "code",
      "execution_count": 50,
      "metadata": {
        "id": "NhiIGQ-li6ah"
      },
      "outputs": [],
      "source": [
        "lang_map = {\n",
        "    \"as\": \"asm_Beng\",   # Assamese\n",
        "    \"bn\": \"ben_Beng\",   # Bengali\n",
        "    \"bo\": \"bod_Tibt\",   # Bodo (Tibetan script sometimes used)\n",
        "    \"gu\": \"guj_Gujr\",   # Gujarati\n",
        "    \"hi\": \"hin_Deva\",   # Hindi\n",
        "    \"kn\": \"kan_Knda\",   # Kannada\n",
        "    \"ks\": \"kas_Arab\",   # Kashmiri (Arabic script)\n",
        "    \"kok\": \"kok_Deva\",  # Konkani\n",
        "    \"mai\": \"mai_Deva\",  # Maithili\n",
        "    \"ml\": \"mal_Mlym\",   # Malayalam\n",
        "    \"mr\": \"mar_Deva\",   # Marathi\n",
        "    \"ne\": \"npi_Deva\",   # Nepali\n",
        "    \"or\": \"ory_Orya\",   # Odia\n",
        "    \"pa\": \"pan_Guru\",   # Punjabi\n",
        "    \"sa\": \"san_Deva\",   # Sanskrit\n",
        "    \"sat\": \"sat_Olck\",  # Santali (Ol Chiki script)\n",
        "    \"sd\": \"snd_Arab\",   # Sindhi (Arabic script)\n",
        "    \"ta\": \"tam_Taml\",   # Tamil\n",
        "    \"te\": \"tel_Telu\",   # Telugu\n",
        "    \"ur\": \"urd_Arab\",   # Urdu\n",
        "    \"en\": \"eng_Latn\",   # English\n",
        "}\n",
        "def detect_language(text):\n",
        "  labels,_=ld_model.predict(text,k=1)\n",
        "  lang_code = labels[0].replace(\"__label__\", \"\")  # e.g., \"en\", \"hi\", \"bn\"\n",
        "  src_lang=lang_map.get(lang_code,\"eng_Latn\")\n",
        "  return src_lang"
      ]
    },
    {
      "cell_type": "code",
      "execution_count": 51,
      "metadata": {
        "colab": {
          "base_uri": "https://localhost:8080/"
        },
        "id": "HGbxnuwJjeeL",
        "outputId": "48eca572-061d-47c5-c9e4-77d69a56d059"
      },
      "outputs": [
        {
          "output_type": "stream",
          "name": "stdout",
          "text": [
            "eng_Latn\n"
          ]
        }
      ],
      "source": [
        "text=\"Hii, this english language.\"\n",
        "print(detect_language(text))"
      ]
    },
    {
      "cell_type": "markdown",
      "metadata": {
        "id": "WXM5ynrqihOD"
      },
      "source": [
        "#### Translate"
      ]
    },
    {
      "cell_type": "code",
      "execution_count": 52,
      "metadata": {
        "id": "kB0sVBNHSVSO"
      },
      "outputs": [],
      "source": [
        "def translate_to_english(text):\n",
        "  ip = IndicProcessor(inference=True)\n",
        "  src_lang=detect_language(text)\n",
        "  if src_lang == \"eng_Latn\":\n",
        "    return text\n",
        "  else:\n",
        "    batch = ip.preprocess_batch([text], src_lang=src_lang, tgt_lang=\"eng_Latn\")\n",
        "    inputs=english_tokenizer(batch, return_tensors=\"pt\",padding=True, truncation=True).to(device)\n",
        "    outputs=english_model.generate(**inputs, max_length=256,num_beams=5,use_cache=False)\n",
        "    generated_tokens=english_tokenizer.batch_decode(outputs,skip_special_tokens=True,clean_up_tokenization_spaces=True)\n",
        "    trans_text=ip.postprocess_batch(generated_tokens, lang=\"eng_Latn\")\n",
        "    return trans_text[0]"
      ]
    },
    {
      "cell_type": "code",
      "execution_count": 53,
      "metadata": {
        "id": "qclJauvyULql"
      },
      "outputs": [],
      "source": [
        "# text = \"नमस्ते! मेरा नाम रोहित है और मैं इंदौर से हूँ। मैं इंजीनियरिंग की पढ़ाई कर रहा हूँ और आर्टिफिशियल इंटेलिजेंस में विशेष रुचि रखता हूँ। मुझे मशीन लर्निंग और डाटा साइंस प्रोजेक्ट्स पर काम करना बहुत पसंद है।\"\n",
        "# print(translate_to_english(text))\n"
      ]
    },
    {
      "cell_type": "code",
      "execution_count": 54,
      "metadata": {
        "id": "_NKtwG0qUR2U"
      },
      "outputs": [],
      "source": [
        "def translate_to_regional(text,response):\n",
        "  ip = IndicProcessor(inference=True)\n",
        "  tgt_lang=detect_language(text)\n",
        "  if tgt_lang == \"eng_Latn\":\n",
        "    return response\n",
        "  else:\n",
        "    batch = ip.preprocess_batch([response], src_lang=\"eng_Latn\", tgt_lang=tgt_lang)\n",
        "    inputs=regional_tokenizer(batch, return_tensors=\"pt\",padding=True, truncation=True).to(device)\n",
        "    outputs=regional_model.generate(**inputs, max_length=256,num_beams=5,use_cache=False)\n",
        "    generated_tokens=regional_tokenizer.batch_decode(outputs,skip_special_tokens=True,clean_up_tokenization_spaces=True)\n",
        "    trans_text=ip.postprocess_batch(generated_tokens, lang=tgt_lang)\n",
        "    return trans_text[0]"
      ]
    },
    {
      "cell_type": "code",
      "execution_count": 55,
      "metadata": {
        "id": "CKhCaZ9rpT6u"
      },
      "outputs": [],
      "source": [
        "# res='Hi! My name is Rohit and I am from Indore. I am studying engineering and have a special interest in Artificial Intelligence. I love working on machine learning and data science projects.'\n",
        "# text = \"नमस्ते! मेरा नाम रोहित है और मैं इंदौर से हूँ। मैं इंजीनियरिंग की पढ़ाई कर रहा हूँ और आर्टिफिशियल इंटेलिजेंस में विशेष रुचि रखता हूँ। मुझे मशीन लर्निंग और डाटा साइंस प्रोजेक्ट्स पर काम करना बहुत पसंद है।\"\n",
        "# print(translate_to_regional(text,res))"
      ]
    },
    {
      "cell_type": "markdown",
      "metadata": {
        "id": "V2XZCwGyqocj"
      },
      "source": [
        "# FinaL Function"
      ]
    },
    {
      "cell_type": "code",
      "execution_count": 56,
      "metadata": {
        "id": "9kxBRrOUqmbd"
      },
      "outputs": [],
      "source": [
        "def final(text):\n",
        "  prompt=translate_to_english(text)\n",
        "  res = response(prompt)\n",
        "  result=translate_to_regional(text,res)\n",
        "  return result"
      ]
    },
    {
      "cell_type": "code",
      "execution_count": 57,
      "metadata": {
        "id": "k-ciLtmzrHBL"
      },
      "outputs": [],
      "source": [
        "# text=\"What are the symptoms of malaria?\" #english\n",
        "# print(final(text))"
      ]
    },
    {
      "cell_type": "code",
      "execution_count": 58,
      "metadata": {
        "id": "Xeid-sgfsyTs"
      },
      "outputs": [],
      "source": [
        "# text=\"ملیریا کی علامات کیا ہیں؟\" #urdu\n",
        "# print(final(text))"
      ]
    },
    {
      "cell_type": "markdown",
      "metadata": {
        "id": "ZkxnpmN3x8zW"
      },
      "source": [
        "urdu text:\n",
        "- وجوہات: ملیریا ایک پرجیویوں کی وجہ سے ہوتا ہے جو متاثرہ خاتون اینوفیلز مچھروں کے کاٹنے سے انسانوں میں منتقل ہوتا ہے۔-علامات:-ہلکی صورتوں میں، بخار، سر درد، سردی اور پٹھوں میں درد موجود ہو سکتا ہے۔-شدید صورتوں میں، بخار زیادہ ہو سکتا ہے، جس کی وجہ سے مایوسی، الجھاو، یا کوما ہو سکتا ہے۔-مزید برآں، کچھ لوگوں کو ملیریا کی شدید شکل کا تجربہ ہو سکتا ہے جسے \"شدید ملیریا\" کہا جاتا ہے، جو سانس کی تکلیف، گردے کی ناکامی اور یہاں تک کہ موت کا باعث بن سکتا ہے۔-شدید ملیریا کی علامات میں شامل ہو سکتے ہیں:-بخار، سردی، کھانسی، سانس لینے میں دشواری، اور سر درد۔-متلی، الٹی، پیٹ میں درد، اور اسہال بھی ہو سکتا ہے۔-شدت: ملیریا شدید ہو سکتا ہے اور خاص طور پر امیونائزڈ افراد میں زندگی کو خطرے میں ڈال سکتا ہے۔-حفاظتی اقدامات میں شامل ہیں۔ لمبی نیند کے کپڑے، نیند کے جال کا استعمال۔"
      ]
    },
    {
      "cell_type": "code",
      "execution_count": 59,
      "metadata": {
        "id": "JPCKwOWzsyIT"
      },
      "outputs": [],
      "source": [
        "# text=\"मलेरिया के लक्षण क्या हैं?\" #hindi\n",
        "# print(final(text))"
      ]
    },
    {
      "cell_type": "markdown",
      "metadata": {
        "id": "pby3aKjGyEO4"
      },
      "source": [
        "Hindi text:\n",
        "मलेरिया के लक्षणः 1. बुखारः यह सबसे आम लक्षण है और 40 डिग्री सेल्सियस (104 डिग्री फ़ारेनहाइट) तक भी बहुत अधिक हो सकता है।\n",
        "2. ठंड लगना और कांपनाः ये तेज बुखार के कारण होता है।\n",
        "3. सिरदर्दः यह एक आम लक्षण है।\n",
        "4. मांसपेशियों में दर्द और दर्दः इसे अफ्रीका में'किकविट'कहा जाता है, और यह लाल रक्त कोशिकाओं के विनाश के कारण होता है।\n",
        "5. थकानः यह एक और सामान्य लक्षण है।\n",
        "6. मतली और उल्टीः ये हो सकते हैं।\n",
        "7. दानेः हाथों और पैरों पर एक सपाट, लाल दाने दिखाई दे सकते हैं।\n",
        "8. पेट दर्दः यह तब हो सकता है जब परजीवी यकृत या प्लीहा को प्रभावित करता है।\n",
        "9. गंभीर मामलों में, एक रोगी को दौरे पड़ सकते हैं, कई अंगों में दर्द हो सकता है, और 10 कोमा हो सकता है। अन्य लक्षणों में पसीने आना, नींद आने से रोकने के लिए दवाएं शामिल हैं।"
      ]
    },
    {
      "cell_type": "code",
      "execution_count": 60,
      "metadata": {
        "id": "Ge-jZtMdsx8k"
      },
      "outputs": [],
      "source": [
        "# text=\"ମଲେରିଆର ଲକ୍ଷଣ କ’ଣ କ’ଣ?\" #odia\n",
        "# print(final(text))"
      ]
    },
    {
      "cell_type": "markdown",
      "metadata": {
        "id": "hLRjc5YlyUrY"
      },
      "source": [
        "Odia text:\n",
        "ମ୍ଯ଼ାଲେରିଆର ଲକ୍ଷଣଗୁଡ଼ିକ ରୋଗର ତୀବ୍ରତା ଉପରେ ନିର୍ଭର କରେ। ପରଜୀବୀ ଉପରେ ନିର୍ଭର କରି ସାମାନ୍ଯ଼ରୁ ଗୁରୁତରଃ ଜ୍ୱର, ଡାଇରିଆ, ଓଜନ ହ୍ରାସ, ପେଟ ଯନ୍ତ୍ରଣା, ପରଜୀବୀ ଉପରେ ନିର୍ଭର କରି ରକ୍ତହୀନତା ଗୁରୁତର ଏବଂ ଜୀବନ ପ୍ରତି ବିପଦଜନକ ହୋଇପାରେ, ବିଶେଷ କରି ରୋଗ ପ୍ରତିରୋଧକ ଶକ୍ତିରେଃ ଜ୍ୱର, ମୁଣ୍ଡବିନ୍ଧା, କାଶ, ନିଶ୍ୱାସ ପ୍ରଶ୍ୱାସ ନେବାରେ ଅସୁବିଧା, ମେନିଞ୍ଜାଇଟିସ୍ ଲକ୍ଷଣ (ବେକରେ କଠୋରତା, ଦ୍ୱନ୍ଦ୍ୱ) ଟିପ୍ପଣୀଃ ଏହି ସୂଚନା କେବଳ ଶିକ୍ଷାଗତ ଉଦ୍ଦେଶ୍ଯ଼ରେ। ଦଯ଼ାକରି ଡାକ୍ତରୀ ପରାମର୍ଶ ପାଇଁ ଜଣେ ଯୋଗ୍ଯ଼ ସ୍ୱାସ୍ଥ୍ଯ଼ସେବା ବୃତ୍ତିଗତଙ୍କ ପରାମର୍ଶ ନିଅନ୍ତୁ।"
      ]
    },
    {
      "cell_type": "markdown",
      "metadata": {
        "id": "GwAdJsawJbPa"
      },
      "source": [
        "# Gradio"
      ]
    },
    {
      "cell_type": "code",
      "execution_count": 61,
      "metadata": {
        "id": "nAf1maHSJeeb",
        "colab": {
          "base_uri": "https://localhost:8080/",
          "height": 732
        },
        "outputId": "18153326-6743-4037-c6a6-25a70792326e"
      },
      "outputs": [
        {
          "output_type": "stream",
          "name": "stderr",
          "text": [
            "/tmp/ipython-input-2716953821.py:10: UserWarning: You have not specified a value for the `type` parameter. Defaulting to the 'tuples' format for chatbot messages, but this is deprecated and will be removed in a future version of Gradio. Please set type='messages' instead, which uses openai-style dictionaries with 'role' and 'content' keys.\n",
            "  chatbot = gr.Chatbot(label=\"QwenVeda\")\n"
          ]
        },
        {
          "output_type": "stream",
          "name": "stdout",
          "text": [
            "It looks like you are running Gradio on a hosted Jupyter notebook, which requires `share=True`. Automatically setting `share=True` (you can turn this off by setting `share=False` in `launch()` explicitly).\n",
            "\n",
            "Colab notebook detected. This cell will run indefinitely so that you can see errors and logs. To turn off, set debug=False in launch().\n",
            "* Running on public URL: https://82afcfd44402da1bc1.gradio.live\n",
            "\n",
            "This share link expires in 1 week. For free permanent hosting and GPU upgrades, run `gradio deploy` from the terminal in the working directory to deploy to Hugging Face Spaces (https://huggingface.co/spaces)\n"
          ]
        },
        {
          "output_type": "display_data",
          "data": {
            "text/plain": [
              "<IPython.core.display.HTML object>"
            ],
            "text/html": [
              "<div><iframe src=\"https://82afcfd44402da1bc1.gradio.live\" width=\"100%\" height=\"500\" allow=\"autoplay; camera; microphone; clipboard-read; clipboard-write;\" frameborder=\"0\" allowfullscreen></iframe></div>"
            ]
          },
          "metadata": {}
        },
        {
          "output_type": "stream",
          "name": "stderr",
          "text": [
            "Setting `pad_token_id` to `eos_token_id`:151643 for open-end generation.\n"
          ]
        },
        {
          "output_type": "stream",
          "name": "stdout",
          "text": [
            "Keyboard interruption in main thread... closing server.\n",
            "Killing tunnel 127.0.0.1:7860 <> https://82afcfd44402da1bc1.gradio.live\n"
          ]
        },
        {
          "output_type": "execute_result",
          "data": {
            "text/plain": []
          },
          "metadata": {},
          "execution_count": 61
        }
      ],
      "source": [
        "import gradio as gr\n",
        "\n",
        "def gr_func(text, chat_history):\n",
        "    res = final(text)\n",
        "    chat_history.append((text, res))\n",
        "    return \"\", chat_history\n",
        "\n",
        "with gr.Blocks(css=\".gradio-container {background-color: Grey}\") as demo:\n",
        "\n",
        "    chatbot = gr.Chatbot(label=\"QwenVeda\")\n",
        "\n",
        "    with gr.Row():\n",
        "        text_input = gr.Textbox(\n",
        "            label=\"Enter Query:\",\n",
        "            placeholder=\"Ask about any disease or medical condition...\",\n",
        "        )\n",
        "        clear_btn = gr.ClearButton([text_input, chatbot], value=\"Clear Chat\")\n",
        "\n",
        "    text_input.submit(\n",
        "        gr_func,\n",
        "        inputs=[text_input, chatbot],\n",
        "        outputs=[text_input, chatbot]\n",
        "    )\n",
        "demo.launch(debug=True)"
      ]
    }
  ],
  "metadata": {
    "accelerator": "GPU",
    "colab": {
      "gpuType": "T4",
      "provenance": []
    },
    "kernelspec": {
      "display_name": "Python 3",
      "name": "python3"
    },
    "language_info": {
      "name": "python"
    },
    "widgets": {
      "application/vnd.jupyter.widget-state+json": {
        "4ee474e74327428aa5fbf5353e67ffb3": {
          "model_module": "@jupyter-widgets/controls",
          "model_name": "HBoxModel",
          "model_module_version": "1.5.0",
          "state": {
            "_dom_classes": [],
            "_model_module": "@jupyter-widgets/controls",
            "_model_module_version": "1.5.0",
            "_model_name": "HBoxModel",
            "_view_count": null,
            "_view_module": "@jupyter-widgets/controls",
            "_view_module_version": "1.5.0",
            "_view_name": "HBoxView",
            "box_style": "",
            "children": [
              "IPY_MODEL_51433d69cac14e1d92ed36ac743eb4f3",
              "IPY_MODEL_5c95a67a71764979b879ef82b76e447b",
              "IPY_MODEL_3245bf60e0be49ccbbffce5be2076ec6"
            ],
            "layout": "IPY_MODEL_a061ab524e314addb7b81cd8d04b18cf"
          }
        },
        "51433d69cac14e1d92ed36ac743eb4f3": {
          "model_module": "@jupyter-widgets/controls",
          "model_name": "HTMLModel",
          "model_module_version": "1.5.0",
          "state": {
            "_dom_classes": [],
            "_model_module": "@jupyter-widgets/controls",
            "_model_module_version": "1.5.0",
            "_model_name": "HTMLModel",
            "_view_count": null,
            "_view_module": "@jupyter-widgets/controls",
            "_view_module_version": "1.5.0",
            "_view_name": "HTMLView",
            "description": "",
            "description_tooltip": null,
            "layout": "IPY_MODEL_49a91f3a330d4363b25fe2549a487e9e",
            "placeholder": "​",
            "style": "IPY_MODEL_5991a909b2d543fbaccc69dd6b0a1b1a",
            "value": "Loading checkpoint shards: 100%"
          }
        },
        "5c95a67a71764979b879ef82b76e447b": {
          "model_module": "@jupyter-widgets/controls",
          "model_name": "FloatProgressModel",
          "model_module_version": "1.5.0",
          "state": {
            "_dom_classes": [],
            "_model_module": "@jupyter-widgets/controls",
            "_model_module_version": "1.5.0",
            "_model_name": "FloatProgressModel",
            "_view_count": null,
            "_view_module": "@jupyter-widgets/controls",
            "_view_module_version": "1.5.0",
            "_view_name": "ProgressView",
            "bar_style": "success",
            "description": "",
            "description_tooltip": null,
            "layout": "IPY_MODEL_c19aeaca3c31449191de6d535f18d783",
            "max": 8,
            "min": 0,
            "orientation": "horizontal",
            "style": "IPY_MODEL_fe771d0c982449819d8fb173b18e1a39",
            "value": 8
          }
        },
        "3245bf60e0be49ccbbffce5be2076ec6": {
          "model_module": "@jupyter-widgets/controls",
          "model_name": "HTMLModel",
          "model_module_version": "1.5.0",
          "state": {
            "_dom_classes": [],
            "_model_module": "@jupyter-widgets/controls",
            "_model_module_version": "1.5.0",
            "_model_name": "HTMLModel",
            "_view_count": null,
            "_view_module": "@jupyter-widgets/controls",
            "_view_module_version": "1.5.0",
            "_view_name": "HTMLView",
            "description": "",
            "description_tooltip": null,
            "layout": "IPY_MODEL_2b25eabd201d498ab5ed4a16fe27a643",
            "placeholder": "​",
            "style": "IPY_MODEL_f37fb3e1b8224bc5b31e91664534bf10",
            "value": " 8/8 [01:33&lt;00:00, 10.20s/it]"
          }
        },
        "a061ab524e314addb7b81cd8d04b18cf": {
          "model_module": "@jupyter-widgets/base",
          "model_name": "LayoutModel",
          "model_module_version": "1.2.0",
          "state": {
            "_model_module": "@jupyter-widgets/base",
            "_model_module_version": "1.2.0",
            "_model_name": "LayoutModel",
            "_view_count": null,
            "_view_module": "@jupyter-widgets/base",
            "_view_module_version": "1.2.0",
            "_view_name": "LayoutView",
            "align_content": null,
            "align_items": null,
            "align_self": null,
            "border": null,
            "bottom": null,
            "display": null,
            "flex": null,
            "flex_flow": null,
            "grid_area": null,
            "grid_auto_columns": null,
            "grid_auto_flow": null,
            "grid_auto_rows": null,
            "grid_column": null,
            "grid_gap": null,
            "grid_row": null,
            "grid_template_areas": null,
            "grid_template_columns": null,
            "grid_template_rows": null,
            "height": null,
            "justify_content": null,
            "justify_items": null,
            "left": null,
            "margin": null,
            "max_height": null,
            "max_width": null,
            "min_height": null,
            "min_width": null,
            "object_fit": null,
            "object_position": null,
            "order": null,
            "overflow": null,
            "overflow_x": null,
            "overflow_y": null,
            "padding": null,
            "right": null,
            "top": null,
            "visibility": null,
            "width": null
          }
        },
        "49a91f3a330d4363b25fe2549a487e9e": {
          "model_module": "@jupyter-widgets/base",
          "model_name": "LayoutModel",
          "model_module_version": "1.2.0",
          "state": {
            "_model_module": "@jupyter-widgets/base",
            "_model_module_version": "1.2.0",
            "_model_name": "LayoutModel",
            "_view_count": null,
            "_view_module": "@jupyter-widgets/base",
            "_view_module_version": "1.2.0",
            "_view_name": "LayoutView",
            "align_content": null,
            "align_items": null,
            "align_self": null,
            "border": null,
            "bottom": null,
            "display": null,
            "flex": null,
            "flex_flow": null,
            "grid_area": null,
            "grid_auto_columns": null,
            "grid_auto_flow": null,
            "grid_auto_rows": null,
            "grid_column": null,
            "grid_gap": null,
            "grid_row": null,
            "grid_template_areas": null,
            "grid_template_columns": null,
            "grid_template_rows": null,
            "height": null,
            "justify_content": null,
            "justify_items": null,
            "left": null,
            "margin": null,
            "max_height": null,
            "max_width": null,
            "min_height": null,
            "min_width": null,
            "object_fit": null,
            "object_position": null,
            "order": null,
            "overflow": null,
            "overflow_x": null,
            "overflow_y": null,
            "padding": null,
            "right": null,
            "top": null,
            "visibility": null,
            "width": null
          }
        },
        "5991a909b2d543fbaccc69dd6b0a1b1a": {
          "model_module": "@jupyter-widgets/controls",
          "model_name": "DescriptionStyleModel",
          "model_module_version": "1.5.0",
          "state": {
            "_model_module": "@jupyter-widgets/controls",
            "_model_module_version": "1.5.0",
            "_model_name": "DescriptionStyleModel",
            "_view_count": null,
            "_view_module": "@jupyter-widgets/base",
            "_view_module_version": "1.2.0",
            "_view_name": "StyleView",
            "description_width": ""
          }
        },
        "c19aeaca3c31449191de6d535f18d783": {
          "model_module": "@jupyter-widgets/base",
          "model_name": "LayoutModel",
          "model_module_version": "1.2.0",
          "state": {
            "_model_module": "@jupyter-widgets/base",
            "_model_module_version": "1.2.0",
            "_model_name": "LayoutModel",
            "_view_count": null,
            "_view_module": "@jupyter-widgets/base",
            "_view_module_version": "1.2.0",
            "_view_name": "LayoutView",
            "align_content": null,
            "align_items": null,
            "align_self": null,
            "border": null,
            "bottom": null,
            "display": null,
            "flex": null,
            "flex_flow": null,
            "grid_area": null,
            "grid_auto_columns": null,
            "grid_auto_flow": null,
            "grid_auto_rows": null,
            "grid_column": null,
            "grid_gap": null,
            "grid_row": null,
            "grid_template_areas": null,
            "grid_template_columns": null,
            "grid_template_rows": null,
            "height": null,
            "justify_content": null,
            "justify_items": null,
            "left": null,
            "margin": null,
            "max_height": null,
            "max_width": null,
            "min_height": null,
            "min_width": null,
            "object_fit": null,
            "object_position": null,
            "order": null,
            "overflow": null,
            "overflow_x": null,
            "overflow_y": null,
            "padding": null,
            "right": null,
            "top": null,
            "visibility": null,
            "width": null
          }
        },
        "fe771d0c982449819d8fb173b18e1a39": {
          "model_module": "@jupyter-widgets/controls",
          "model_name": "ProgressStyleModel",
          "model_module_version": "1.5.0",
          "state": {
            "_model_module": "@jupyter-widgets/controls",
            "_model_module_version": "1.5.0",
            "_model_name": "ProgressStyleModel",
            "_view_count": null,
            "_view_module": "@jupyter-widgets/base",
            "_view_module_version": "1.2.0",
            "_view_name": "StyleView",
            "bar_color": null,
            "description_width": ""
          }
        },
        "2b25eabd201d498ab5ed4a16fe27a643": {
          "model_module": "@jupyter-widgets/base",
          "model_name": "LayoutModel",
          "model_module_version": "1.2.0",
          "state": {
            "_model_module": "@jupyter-widgets/base",
            "_model_module_version": "1.2.0",
            "_model_name": "LayoutModel",
            "_view_count": null,
            "_view_module": "@jupyter-widgets/base",
            "_view_module_version": "1.2.0",
            "_view_name": "LayoutView",
            "align_content": null,
            "align_items": null,
            "align_self": null,
            "border": null,
            "bottom": null,
            "display": null,
            "flex": null,
            "flex_flow": null,
            "grid_area": null,
            "grid_auto_columns": null,
            "grid_auto_flow": null,
            "grid_auto_rows": null,
            "grid_column": null,
            "grid_gap": null,
            "grid_row": null,
            "grid_template_areas": null,
            "grid_template_columns": null,
            "grid_template_rows": null,
            "height": null,
            "justify_content": null,
            "justify_items": null,
            "left": null,
            "margin": null,
            "max_height": null,
            "max_width": null,
            "min_height": null,
            "min_width": null,
            "object_fit": null,
            "object_position": null,
            "order": null,
            "overflow": null,
            "overflow_x": null,
            "overflow_y": null,
            "padding": null,
            "right": null,
            "top": null,
            "visibility": null,
            "width": null
          }
        },
        "f37fb3e1b8224bc5b31e91664534bf10": {
          "model_module": "@jupyter-widgets/controls",
          "model_name": "DescriptionStyleModel",
          "model_module_version": "1.5.0",
          "state": {
            "_model_module": "@jupyter-widgets/controls",
            "_model_module_version": "1.5.0",
            "_model_name": "DescriptionStyleModel",
            "_view_count": null,
            "_view_module": "@jupyter-widgets/base",
            "_view_module_version": "1.2.0",
            "_view_name": "StyleView",
            "description_width": ""
          }
        }
      }
    }
  },
  "nbformat": 4,
  "nbformat_minor": 0
}